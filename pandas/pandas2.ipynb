{
 "cells": [
  {
   "cell_type": "code",
   "execution_count": 1,
   "id": "e3beb4f1-83df-4bed-a7ea-b926dcf093e4",
   "metadata": {},
   "outputs": [],
   "source": [
    "import pandas as pd\n"
   ]
  },
  {
   "cell_type": "code",
   "execution_count": 2,
   "id": "96bf7e0f-6549-464b-8a76-571e1c5d831e",
   "metadata": {},
   "outputs": [],
   "source": [
    "df = pd.read_csv(\"movies_dataset.csv\")"
   ]
  },
  {
   "cell_type": "code",
   "execution_count": 3,
   "id": "932ef1ed-8964-4aaf-9c6f-f9abde248608",
   "metadata": {},
   "outputs": [
    {
     "data": {
      "text/html": [
       "<div>\n",
       "<style scoped>\n",
       "    .dataframe tbody tr th:only-of-type {\n",
       "        vertical-align: middle;\n",
       "    }\n",
       "\n",
       "    .dataframe tbody tr th {\n",
       "        vertical-align: top;\n",
       "    }\n",
       "\n",
       "    .dataframe thead th {\n",
       "        text-align: right;\n",
       "    }\n",
       "</style>\n",
       "<table border=\"1\" class=\"dataframe\">\n",
       "  <thead>\n",
       "    <tr style=\"text-align: right;\">\n",
       "      <th></th>\n",
       "      <th>Movie</th>\n",
       "      <th>Year</th>\n",
       "      <th>Hit/Flop</th>\n",
       "      <th>Actor</th>\n",
       "    </tr>\n",
       "  </thead>\n",
       "  <tbody>\n",
       "    <tr>\n",
       "      <th>0</th>\n",
       "      <td>Baahubali 2</td>\n",
       "      <td>2017</td>\n",
       "      <td>Flop</td>\n",
       "      <td>Ajay Devgn</td>\n",
       "    </tr>\n",
       "    <tr>\n",
       "      <th>1</th>\n",
       "      <td>RRR</td>\n",
       "      <td>2005</td>\n",
       "      <td>Hit</td>\n",
       "      <td>Ranbir Kapoor</td>\n",
       "    </tr>\n",
       "    <tr>\n",
       "      <th>2</th>\n",
       "      <td>Gully Boy</td>\n",
       "      <td>2003</td>\n",
       "      <td>Flop</td>\n",
       "      <td>Shah Rukh Khan</td>\n",
       "    </tr>\n",
       "    <tr>\n",
       "      <th>3</th>\n",
       "      <td>Badla</td>\n",
       "      <td>2005</td>\n",
       "      <td>Hit</td>\n",
       "      <td>Ranbir Kapoor</td>\n",
       "    </tr>\n",
       "    <tr>\n",
       "      <th>4</th>\n",
       "      <td>Brahmastra</td>\n",
       "      <td>2016</td>\n",
       "      <td>Hit</td>\n",
       "      <td>Hrithik Roshan</td>\n",
       "    </tr>\n",
       "    <tr>\n",
       "      <th>...</th>\n",
       "      <td>...</td>\n",
       "      <td>...</td>\n",
       "      <td>...</td>\n",
       "      <td>...</td>\n",
       "    </tr>\n",
       "    <tr>\n",
       "      <th>295</th>\n",
       "      <td>Dilwale</td>\n",
       "      <td>2016</td>\n",
       "      <td>Hit</td>\n",
       "      <td>Amitabh Bachchan</td>\n",
       "    </tr>\n",
       "    <tr>\n",
       "      <th>296</th>\n",
       "      <td>War</td>\n",
       "      <td>2006</td>\n",
       "      <td>Hit</td>\n",
       "      <td>Akshay Kumar</td>\n",
       "    </tr>\n",
       "    <tr>\n",
       "      <th>297</th>\n",
       "      <td>Dilwale</td>\n",
       "      <td>2008</td>\n",
       "      <td>Flop</td>\n",
       "      <td>Ranbir Kapoor</td>\n",
       "    </tr>\n",
       "    <tr>\n",
       "      <th>298</th>\n",
       "      <td>Sultan</td>\n",
       "      <td>2015</td>\n",
       "      <td>Hit</td>\n",
       "      <td>Rajkummar Rao</td>\n",
       "    </tr>\n",
       "    <tr>\n",
       "      <th>299</th>\n",
       "      <td>Pushpa: The Rise</td>\n",
       "      <td>2007</td>\n",
       "      <td>Flop</td>\n",
       "      <td>Rajkummar Rao</td>\n",
       "    </tr>\n",
       "  </tbody>\n",
       "</table>\n",
       "<p>300 rows × 4 columns</p>\n",
       "</div>"
      ],
      "text/plain": [
       "                Movie  Year Hit/Flop             Actor\n",
       "0         Baahubali 2  2017     Flop        Ajay Devgn\n",
       "1                 RRR  2005      Hit     Ranbir Kapoor\n",
       "2           Gully Boy  2003     Flop    Shah Rukh Khan\n",
       "3               Badla  2005      Hit     Ranbir Kapoor\n",
       "4          Brahmastra  2016      Hit    Hrithik Roshan\n",
       "..                ...   ...      ...               ...\n",
       "295           Dilwale  2016      Hit  Amitabh Bachchan\n",
       "296               War  2006      Hit      Akshay Kumar\n",
       "297           Dilwale  2008     Flop     Ranbir Kapoor\n",
       "298            Sultan  2015      Hit     Rajkummar Rao\n",
       "299  Pushpa: The Rise  2007     Flop     Rajkummar Rao\n",
       "\n",
       "[300 rows x 4 columns]"
      ]
     },
     "execution_count": 3,
     "metadata": {},
     "output_type": "execute_result"
    }
   ],
   "source": [
    "df"
   ]
  },
  {
   "cell_type": "code",
   "execution_count": 14,
   "id": "9284dc61-8c32-41f8-bd4b-f66d8c734f33",
   "metadata": {},
   "outputs": [
    {
     "data": {
      "text/plain": [
       "pandas.core.series.Series"
      ]
     },
     "execution_count": 14,
     "metadata": {},
     "output_type": "execute_result"
    }
   ],
   "source": [
    "type(df[\"Actor\"])"
   ]
  },
  {
   "cell_type": "code",
   "execution_count": 16,
   "id": "3068de00-4b0b-4441-8fe4-709c6763134a",
   "metadata": {},
   "outputs": [
    {
     "data": {
      "text/html": [
       "<div>\n",
       "<style scoped>\n",
       "    .dataframe tbody tr th:only-of-type {\n",
       "        vertical-align: middle;\n",
       "    }\n",
       "\n",
       "    .dataframe tbody tr th {\n",
       "        vertical-align: top;\n",
       "    }\n",
       "\n",
       "    .dataframe thead th {\n",
       "        text-align: right;\n",
       "    }\n",
       "</style>\n",
       "<table border=\"1\" class=\"dataframe\">\n",
       "  <thead>\n",
       "    <tr style=\"text-align: right;\">\n",
       "      <th></th>\n",
       "      <th>Actor</th>\n",
       "      <th>Movie</th>\n",
       "    </tr>\n",
       "  </thead>\n",
       "  <tbody>\n",
       "    <tr>\n",
       "      <th>0</th>\n",
       "      <td>Ajay Devgn</td>\n",
       "      <td>Baahubali 2</td>\n",
       "    </tr>\n",
       "    <tr>\n",
       "      <th>1</th>\n",
       "      <td>Ranbir Kapoor</td>\n",
       "      <td>RRR</td>\n",
       "    </tr>\n",
       "    <tr>\n",
       "      <th>2</th>\n",
       "      <td>Shah Rukh Khan</td>\n",
       "      <td>Gully Boy</td>\n",
       "    </tr>\n",
       "    <tr>\n",
       "      <th>3</th>\n",
       "      <td>Ranbir Kapoor</td>\n",
       "      <td>Badla</td>\n",
       "    </tr>\n",
       "    <tr>\n",
       "      <th>4</th>\n",
       "      <td>Hrithik Roshan</td>\n",
       "      <td>Brahmastra</td>\n",
       "    </tr>\n",
       "    <tr>\n",
       "      <th>...</th>\n",
       "      <td>...</td>\n",
       "      <td>...</td>\n",
       "    </tr>\n",
       "    <tr>\n",
       "      <th>295</th>\n",
       "      <td>Amitabh Bachchan</td>\n",
       "      <td>Dilwale</td>\n",
       "    </tr>\n",
       "    <tr>\n",
       "      <th>296</th>\n",
       "      <td>Akshay Kumar</td>\n",
       "      <td>War</td>\n",
       "    </tr>\n",
       "    <tr>\n",
       "      <th>297</th>\n",
       "      <td>Ranbir Kapoor</td>\n",
       "      <td>Dilwale</td>\n",
       "    </tr>\n",
       "    <tr>\n",
       "      <th>298</th>\n",
       "      <td>Rajkummar Rao</td>\n",
       "      <td>Sultan</td>\n",
       "    </tr>\n",
       "    <tr>\n",
       "      <th>299</th>\n",
       "      <td>Rajkummar Rao</td>\n",
       "      <td>Pushpa: The Rise</td>\n",
       "    </tr>\n",
       "  </tbody>\n",
       "</table>\n",
       "<p>300 rows × 2 columns</p>\n",
       "</div>"
      ],
      "text/plain": [
       "                Actor             Movie\n",
       "0          Ajay Devgn       Baahubali 2\n",
       "1       Ranbir Kapoor               RRR\n",
       "2      Shah Rukh Khan         Gully Boy\n",
       "3       Ranbir Kapoor             Badla\n",
       "4      Hrithik Roshan        Brahmastra\n",
       "..                ...               ...\n",
       "295  Amitabh Bachchan           Dilwale\n",
       "296      Akshay Kumar               War\n",
       "297     Ranbir Kapoor           Dilwale\n",
       "298     Rajkummar Rao            Sultan\n",
       "299     Rajkummar Rao  Pushpa: The Rise\n",
       "\n",
       "[300 rows x 2 columns]"
      ]
     },
     "execution_count": 16,
     "metadata": {},
     "output_type": "execute_result"
    }
   ],
   "source": [
    "df[[\"Actor\",\"Movie\"]]"
   ]
  },
  {
   "cell_type": "code",
   "execution_count": 18,
   "id": "ac96d248-1838-48fc-bcee-2adb35399352",
   "metadata": {},
   "outputs": [
    {
     "data": {
      "text/html": [
       "<div>\n",
       "<style scoped>\n",
       "    .dataframe tbody tr th:only-of-type {\n",
       "        vertical-align: middle;\n",
       "    }\n",
       "\n",
       "    .dataframe tbody tr th {\n",
       "        vertical-align: top;\n",
       "    }\n",
       "\n",
       "    .dataframe thead th {\n",
       "        text-align: right;\n",
       "    }\n",
       "</style>\n",
       "<table border=\"1\" class=\"dataframe\">\n",
       "  <thead>\n",
       "    <tr style=\"text-align: right;\">\n",
       "      <th></th>\n",
       "      <th>Movie</th>\n",
       "      <th>Year</th>\n",
       "      <th>Hit/Flop</th>\n",
       "      <th>Actor</th>\n",
       "    </tr>\n",
       "  </thead>\n",
       "  <tbody>\n",
       "    <tr>\n",
       "      <th>0</th>\n",
       "      <td>Baahubali 2</td>\n",
       "      <td>2017</td>\n",
       "      <td>Flop</td>\n",
       "      <td>Ajay Devgn</td>\n",
       "    </tr>\n",
       "    <tr>\n",
       "      <th>1</th>\n",
       "      <td>RRR</td>\n",
       "      <td>2005</td>\n",
       "      <td>Hit</td>\n",
       "      <td>Ranbir Kapoor</td>\n",
       "    </tr>\n",
       "    <tr>\n",
       "      <th>2</th>\n",
       "      <td>Gully Boy</td>\n",
       "      <td>2003</td>\n",
       "      <td>Flop</td>\n",
       "      <td>Shah Rukh Khan</td>\n",
       "    </tr>\n",
       "    <tr>\n",
       "      <th>3</th>\n",
       "      <td>Badla</td>\n",
       "      <td>2005</td>\n",
       "      <td>Hit</td>\n",
       "      <td>Ranbir Kapoor</td>\n",
       "    </tr>\n",
       "    <tr>\n",
       "      <th>4</th>\n",
       "      <td>Brahmastra</td>\n",
       "      <td>2016</td>\n",
       "      <td>Hit</td>\n",
       "      <td>Hrithik Roshan</td>\n",
       "    </tr>\n",
       "  </tbody>\n",
       "</table>\n",
       "</div>"
      ],
      "text/plain": [
       "         Movie  Year Hit/Flop           Actor\n",
       "0  Baahubali 2  2017     Flop      Ajay Devgn\n",
       "1          RRR  2005      Hit   Ranbir Kapoor\n",
       "2    Gully Boy  2003     Flop  Shah Rukh Khan\n",
       "3        Badla  2005      Hit   Ranbir Kapoor\n",
       "4   Brahmastra  2016      Hit  Hrithik Roshan"
      ]
     },
     "execution_count": 18,
     "metadata": {},
     "output_type": "execute_result"
    }
   ],
   "source": [
    "df.head()"
   ]
  },
  {
   "cell_type": "code",
   "execution_count": 20,
   "id": "77d92b62-342e-4ec8-8ca9-5c95070efe71",
   "metadata": {},
   "outputs": [
    {
     "data": {
      "text/plain": [
       "Movie                 RRR\n",
       "Year                 2005\n",
       "Hit/Flop              Hit\n",
       "Actor       Ranbir Kapoor\n",
       "Name: 1, dtype: object"
      ]
     },
     "execution_count": 20,
     "metadata": {},
     "output_type": "execute_result"
    }
   ],
   "source": [
    "df.loc[1]"
   ]
  },
  {
   "cell_type": "code",
   "execution_count": 21,
   "id": "72d49280-e35c-4be6-baa5-32d7ea9e834f",
   "metadata": {},
   "outputs": [
    {
     "data": {
      "text/plain": [
       "Movie               Sultan\n",
       "Year                  2021\n",
       "Hit/Flop               Hit\n",
       "Actor       Hrithik Roshan\n",
       "Name: 5, dtype: object"
      ]
     },
     "execution_count": 21,
     "metadata": {},
     "output_type": "execute_result"
    }
   ],
   "source": [
    "df.iloc[5]"
   ]
  },
  {
   "cell_type": "code",
   "execution_count": 24,
   "id": "dc7879a4-8ceb-460c-a229-cd51888b6a99",
   "metadata": {},
   "outputs": [
    {
     "data": {
      "text/plain": [
       "'Tamasha'"
      ]
     },
     "execution_count": 24,
     "metadata": {},
     "output_type": "execute_result"
    }
   ],
   "source": [
    "df.loc[8,\"Movie\"]"
   ]
  },
  {
   "cell_type": "code",
   "execution_count": 29,
   "id": "afe11df1-386d-489e-afee-10142314a8a1",
   "metadata": {},
   "outputs": [
    {
     "data": {
      "text/plain": [
       "'Hrithik Roshan'"
      ]
     },
     "execution_count": 29,
     "metadata": {},
     "output_type": "execute_result"
    }
   ],
   "source": [
    "df.iloc[5,3]"
   ]
  },
  {
   "cell_type": "code",
   "execution_count": 31,
   "id": "2a7a355f-175b-4ec1-9721-b664b42bd760",
   "metadata": {},
   "outputs": [
    {
     "data": {
      "text/html": [
       "<div>\n",
       "<style scoped>\n",
       "    .dataframe tbody tr th:only-of-type {\n",
       "        vertical-align: middle;\n",
       "    }\n",
       "\n",
       "    .dataframe tbody tr th {\n",
       "        vertical-align: top;\n",
       "    }\n",
       "\n",
       "    .dataframe thead th {\n",
       "        text-align: right;\n",
       "    }\n",
       "</style>\n",
       "<table border=\"1\" class=\"dataframe\">\n",
       "  <thead>\n",
       "    <tr style=\"text-align: right;\">\n",
       "      <th></th>\n",
       "      <th>Actor</th>\n",
       "      <th>Movie</th>\n",
       "    </tr>\n",
       "  </thead>\n",
       "  <tbody>\n",
       "    <tr>\n",
       "      <th>0</th>\n",
       "      <td>Ajay Devgn</td>\n",
       "      <td>Baahubali 2</td>\n",
       "    </tr>\n",
       "    <tr>\n",
       "      <th>1</th>\n",
       "      <td>Ranbir Kapoor</td>\n",
       "      <td>RRR</td>\n",
       "    </tr>\n",
       "    <tr>\n",
       "      <th>2</th>\n",
       "      <td>Shah Rukh Khan</td>\n",
       "      <td>Gully Boy</td>\n",
       "    </tr>\n",
       "  </tbody>\n",
       "</table>\n",
       "</div>"
      ],
      "text/plain": [
       "            Actor        Movie\n",
       "0      Ajay Devgn  Baahubali 2\n",
       "1   Ranbir Kapoor          RRR\n",
       "2  Shah Rukh Khan    Gully Boy"
      ]
     },
     "execution_count": 31,
     "metadata": {},
     "output_type": "execute_result"
    }
   ],
   "source": [
    "df.loc[0:2,[\"Actor\" , \"Movie\"]]"
   ]
  },
  {
   "cell_type": "code",
   "execution_count": 34,
   "id": "f129f5d9-fc2d-47fa-9143-c66ba8a2ca94",
   "metadata": {},
   "outputs": [
    {
     "data": {
      "text/plain": [
       "'Baahubali 2'"
      ]
     },
     "execution_count": 34,
     "metadata": {},
     "output_type": "execute_result"
    }
   ],
   "source": [
    "df.iat[0,0]"
   ]
  },
  {
   "cell_type": "code",
   "execution_count": 38,
   "id": "29b20abf-11a9-4763-9271-be5921b6439d",
   "metadata": {},
   "outputs": [],
   "source": [
    "pf = pd.read_csv(\"movies_dataset_1.csv\")"
   ]
  },
  {
   "cell_type": "code",
   "execution_count": 39,
   "id": "85d4f1d8-283a-455f-b1b0-e65056efdadb",
   "metadata": {},
   "outputs": [
    {
     "data": {
      "text/html": [
       "<div>\n",
       "<style scoped>\n",
       "    .dataframe tbody tr th:only-of-type {\n",
       "        vertical-align: middle;\n",
       "    }\n",
       "\n",
       "    .dataframe tbody tr th {\n",
       "        vertical-align: top;\n",
       "    }\n",
       "\n",
       "    .dataframe thead th {\n",
       "        text-align: right;\n",
       "    }\n",
       "</style>\n",
       "<table border=\"1\" class=\"dataframe\">\n",
       "  <thead>\n",
       "    <tr style=\"text-align: right;\">\n",
       "      <th></th>\n",
       "      <th>Movie</th>\n",
       "      <th>Year</th>\n",
       "      <th>Hit/Flop</th>\n",
       "      <th>Actor</th>\n",
       "      <th>IMDb Rating</th>\n",
       "    </tr>\n",
       "  </thead>\n",
       "  <tbody>\n",
       "    <tr>\n",
       "      <th>0</th>\n",
       "      <td>Baahubali 2</td>\n",
       "      <td>2017</td>\n",
       "      <td>Flop</td>\n",
       "      <td>Ajay Devgn</td>\n",
       "      <td>5.6</td>\n",
       "    </tr>\n",
       "    <tr>\n",
       "      <th>1</th>\n",
       "      <td>RRR</td>\n",
       "      <td>2005</td>\n",
       "      <td>Hit</td>\n",
       "      <td>Ranbir Kapoor</td>\n",
       "      <td>4.5</td>\n",
       "    </tr>\n",
       "    <tr>\n",
       "      <th>2</th>\n",
       "      <td>Gully Boy</td>\n",
       "      <td>2003</td>\n",
       "      <td>Flop</td>\n",
       "      <td>Shah Rukh Khan</td>\n",
       "      <td>8.7</td>\n",
       "    </tr>\n",
       "    <tr>\n",
       "      <th>3</th>\n",
       "      <td>Badla</td>\n",
       "      <td>2005</td>\n",
       "      <td>Hit</td>\n",
       "      <td>Ranbir Kapoor</td>\n",
       "      <td>4.4</td>\n",
       "    </tr>\n",
       "    <tr>\n",
       "      <th>4</th>\n",
       "      <td>Brahmastra</td>\n",
       "      <td>2016</td>\n",
       "      <td>Hit</td>\n",
       "      <td>Hrithik Roshan</td>\n",
       "      <td>6.5</td>\n",
       "    </tr>\n",
       "    <tr>\n",
       "      <th>...</th>\n",
       "      <td>...</td>\n",
       "      <td>...</td>\n",
       "      <td>...</td>\n",
       "      <td>...</td>\n",
       "      <td>...</td>\n",
       "    </tr>\n",
       "    <tr>\n",
       "      <th>295</th>\n",
       "      <td>Dilwale</td>\n",
       "      <td>2016</td>\n",
       "      <td>Hit</td>\n",
       "      <td>Amitabh Bachchan</td>\n",
       "      <td>8.1</td>\n",
       "    </tr>\n",
       "    <tr>\n",
       "      <th>296</th>\n",
       "      <td>War</td>\n",
       "      <td>2006</td>\n",
       "      <td>Hit</td>\n",
       "      <td>Akshay Kumar</td>\n",
       "      <td>9.6</td>\n",
       "    </tr>\n",
       "    <tr>\n",
       "      <th>297</th>\n",
       "      <td>Dilwale</td>\n",
       "      <td>2008</td>\n",
       "      <td>Flop</td>\n",
       "      <td>Ranbir Kapoor</td>\n",
       "      <td>9.4</td>\n",
       "    </tr>\n",
       "    <tr>\n",
       "      <th>298</th>\n",
       "      <td>Sultan</td>\n",
       "      <td>2015</td>\n",
       "      <td>Hit</td>\n",
       "      <td>Rajkummar Rao</td>\n",
       "      <td>5.2</td>\n",
       "    </tr>\n",
       "    <tr>\n",
       "      <th>299</th>\n",
       "      <td>Pushpa: The Rise</td>\n",
       "      <td>2007</td>\n",
       "      <td>Flop</td>\n",
       "      <td>Rajkummar Rao</td>\n",
       "      <td>5.7</td>\n",
       "    </tr>\n",
       "  </tbody>\n",
       "</table>\n",
       "<p>300 rows × 5 columns</p>\n",
       "</div>"
      ],
      "text/plain": [
       "                Movie  Year Hit/Flop             Actor  IMDb Rating\n",
       "0         Baahubali 2  2017     Flop        Ajay Devgn          5.6\n",
       "1                 RRR  2005      Hit     Ranbir Kapoor          4.5\n",
       "2           Gully Boy  2003     Flop    Shah Rukh Khan          8.7\n",
       "3               Badla  2005      Hit     Ranbir Kapoor          4.4\n",
       "4          Brahmastra  2016      Hit    Hrithik Roshan          6.5\n",
       "..                ...   ...      ...               ...          ...\n",
       "295           Dilwale  2016      Hit  Amitabh Bachchan          8.1\n",
       "296               War  2006      Hit      Akshay Kumar          9.6\n",
       "297           Dilwale  2008     Flop     Ranbir Kapoor          9.4\n",
       "298            Sultan  2015      Hit     Rajkummar Rao          5.2\n",
       "299  Pushpa: The Rise  2007     Flop     Rajkummar Rao          5.7\n",
       "\n",
       "[300 rows x 5 columns]"
      ]
     },
     "execution_count": 39,
     "metadata": {},
     "output_type": "execute_result"
    }
   ],
   "source": [
    "pf"
   ]
  },
  {
   "cell_type": "code",
   "execution_count": 51,
   "id": "04160d96-ffb0-4599-b7a1-e8a7a6c89c08",
   "metadata": {},
   "outputs": [
    {
     "data": {
      "text/html": [
       "<div>\n",
       "<style scoped>\n",
       "    .dataframe tbody tr th:only-of-type {\n",
       "        vertical-align: middle;\n",
       "    }\n",
       "\n",
       "    .dataframe tbody tr th {\n",
       "        vertical-align: top;\n",
       "    }\n",
       "\n",
       "    .dataframe thead th {\n",
       "        text-align: right;\n",
       "    }\n",
       "</style>\n",
       "<table border=\"1\" class=\"dataframe\">\n",
       "  <thead>\n",
       "    <tr style=\"text-align: right;\">\n",
       "      <th></th>\n",
       "      <th>Movie</th>\n",
       "      <th>Year</th>\n",
       "      <th>Hit/Flop</th>\n",
       "      <th>Actor</th>\n",
       "      <th>IMDb Rating</th>\n",
       "    </tr>\n",
       "  </thead>\n",
       "  <tbody>\n",
       "    <tr>\n",
       "      <th>19</th>\n",
       "      <td>Race 3</td>\n",
       "      <td>2003</td>\n",
       "      <td>Flop</td>\n",
       "      <td>Akshay Kumar</td>\n",
       "      <td>4.0</td>\n",
       "    </tr>\n",
       "    <tr>\n",
       "      <th>39</th>\n",
       "      <td>Super 30</td>\n",
       "      <td>2004</td>\n",
       "      <td>Flop</td>\n",
       "      <td>Prabhas</td>\n",
       "      <td>4.0</td>\n",
       "    </tr>\n",
       "    <tr>\n",
       "      <th>133</th>\n",
       "      <td>Laal Singh Chaddha</td>\n",
       "      <td>2016</td>\n",
       "      <td>Flop</td>\n",
       "      <td>Ram Charan</td>\n",
       "      <td>4.0</td>\n",
       "    </tr>\n",
       "    <tr>\n",
       "      <th>200</th>\n",
       "      <td>Don 2</td>\n",
       "      <td>2012</td>\n",
       "      <td>Hit</td>\n",
       "      <td>Akshay Kumar</td>\n",
       "      <td>4.0</td>\n",
       "    </tr>\n",
       "    <tr>\n",
       "      <th>251</th>\n",
       "      <td>Radhe</td>\n",
       "      <td>2007</td>\n",
       "      <td>Hit</td>\n",
       "      <td>Akshay Kumar</td>\n",
       "      <td>4.0</td>\n",
       "    </tr>\n",
       "  </tbody>\n",
       "</table>\n",
       "</div>"
      ],
      "text/plain": [
       "                  Movie  Year Hit/Flop         Actor  IMDb Rating\n",
       "19               Race 3  2003     Flop  Akshay Kumar          4.0\n",
       "39             Super 30  2004     Flop       Prabhas          4.0\n",
       "133  Laal Singh Chaddha  2016     Flop    Ram Charan          4.0\n",
       "200               Don 2  2012      Hit  Akshay Kumar          4.0\n",
       "251               Radhe  2007      Hit  Akshay Kumar          4.0"
      ]
     },
     "execution_count": 51,
     "metadata": {},
     "output_type": "execute_result"
    }
   ],
   "source": [
    "pf[pf['IMDb Rating'] ==4]"
   ]
  },
  {
   "cell_type": "code",
   "execution_count": 58,
   "id": "7d9b00c2-b42b-4923-a6b2-447bc2d32492",
   "metadata": {},
   "outputs": [
    {
     "data": {
      "text/html": [
       "<div>\n",
       "<style scoped>\n",
       "    .dataframe tbody tr th:only-of-type {\n",
       "        vertical-align: middle;\n",
       "    }\n",
       "\n",
       "    .dataframe tbody tr th {\n",
       "        vertical-align: top;\n",
       "    }\n",
       "\n",
       "    .dataframe thead th {\n",
       "        text-align: right;\n",
       "    }\n",
       "</style>\n",
       "<table border=\"1\" class=\"dataframe\">\n",
       "  <thead>\n",
       "    <tr style=\"text-align: right;\">\n",
       "      <th></th>\n",
       "      <th>Movie</th>\n",
       "      <th>Year</th>\n",
       "      <th>Hit/Flop</th>\n",
       "      <th>Actor</th>\n",
       "      <th>IMDb Rating</th>\n",
       "    </tr>\n",
       "  </thead>\n",
       "  <tbody>\n",
       "    <tr>\n",
       "      <th>13</th>\n",
       "      <td>Sultan</td>\n",
       "      <td>2024</td>\n",
       "      <td>Hit</td>\n",
       "      <td>Hrithik Roshan</td>\n",
       "      <td>7.8</td>\n",
       "    </tr>\n",
       "    <tr>\n",
       "      <th>48</th>\n",
       "      <td>PK</td>\n",
       "      <td>2024</td>\n",
       "      <td>Flop</td>\n",
       "      <td>Allu Arjun</td>\n",
       "      <td>6.6</td>\n",
       "    </tr>\n",
       "    <tr>\n",
       "      <th>59</th>\n",
       "      <td>Tamasha</td>\n",
       "      <td>2024</td>\n",
       "      <td>Hit</td>\n",
       "      <td>Vicky Kaushal</td>\n",
       "      <td>7.1</td>\n",
       "    </tr>\n",
       "    <tr>\n",
       "      <th>123</th>\n",
       "      <td>Kaabil</td>\n",
       "      <td>2024</td>\n",
       "      <td>Flop</td>\n",
       "      <td>Yash</td>\n",
       "      <td>6.4</td>\n",
       "    </tr>\n",
       "    <tr>\n",
       "      <th>203</th>\n",
       "      <td>Andhadhun</td>\n",
       "      <td>2024</td>\n",
       "      <td>Hit</td>\n",
       "      <td>Allu Arjun</td>\n",
       "      <td>9.1</td>\n",
       "    </tr>\n",
       "    <tr>\n",
       "      <th>256</th>\n",
       "      <td>Gully Boy</td>\n",
       "      <td>2024</td>\n",
       "      <td>Hit</td>\n",
       "      <td>Ram Charan</td>\n",
       "      <td>8.0</td>\n",
       "    </tr>\n",
       "  </tbody>\n",
       "</table>\n",
       "</div>"
      ],
      "text/plain": [
       "         Movie  Year Hit/Flop           Actor  IMDb Rating\n",
       "13      Sultan  2024      Hit  Hrithik Roshan          7.8\n",
       "48          PK  2024     Flop      Allu Arjun          6.6\n",
       "59     Tamasha  2024      Hit   Vicky Kaushal          7.1\n",
       "123     Kaabil  2024     Flop            Yash          6.4\n",
       "203  Andhadhun  2024      Hit      Allu Arjun          9.1\n",
       "256  Gully Boy  2024      Hit      Ram Charan          8.0"
      ]
     },
     "execution_count": 58,
     "metadata": {},
     "output_type": "execute_result"
    }
   ],
   "source": [
    "pf[(pf['IMDb Rating']>6) &(df['Year']>2023)]"
   ]
  },
  {
   "cell_type": "code",
   "execution_count": null,
   "id": "d33a4e9e-812e-4682-9447-316d6041f967",
   "metadata": {},
   "outputs": [],
   "source": []
  },
  {
   "cell_type": "code",
   "execution_count": 68,
   "id": "4f19c6e5-7543-41d9-b7d0-dc2c84ffc896",
   "metadata": {},
   "outputs": [
    {
     "ename": "SyntaxError",
     "evalue": "Python keyword not valid identifier in numexpr query (<unknown>, line 1)",
     "output_type": "error",
     "traceback": [
      "Traceback \u001b[36m(most recent call last)\u001b[39m:\n",
      "  File \u001b[92m~\\anaconda3\\envs\\atulshahi\\Lib\\site-packages\\IPython\\core\\interactiveshell.py:3667\u001b[39m in \u001b[95mrun_code\u001b[39m\n    exec(code_obj, self.user_global_ns, self.user_ns)\n",
      "  Cell \u001b[92mIn[68]\u001b[39m\u001b[92m, line 1\u001b[39m\n    c = pf.query(\"Year >2020 and IMDb Rating > 6\")\n",
      "  File \u001b[92m~\\anaconda3\\envs\\atulshahi\\Lib\\site-packages\\pandas\\core\\frame.py:4828\u001b[39m in \u001b[95mquery\u001b[39m\n    res = self.eval(expr, **kwargs)\n",
      "  File \u001b[92m~\\anaconda3\\envs\\atulshahi\\Lib\\site-packages\\pandas\\core\\frame.py:4954\u001b[39m in \u001b[95meval\u001b[39m\n    return _eval(expr, inplace=inplace, **kwargs)\n",
      "  File \u001b[92m~\\anaconda3\\envs\\atulshahi\\Lib\\site-packages\\pandas\\core\\computation\\eval.py:339\u001b[39m in \u001b[95meval\u001b[39m\n    parsed_expr = Expr(expr, engine=engine, parser=parser, env=env)\n",
      "  File \u001b[92m~\\anaconda3\\envs\\atulshahi\\Lib\\site-packages\\pandas\\core\\computation\\expr.py:809\u001b[39m in \u001b[95m__init__\u001b[39m\n    self.terms = self.parse()\n",
      "  File \u001b[92m~\\anaconda3\\envs\\atulshahi\\Lib\\site-packages\\pandas\\core\\computation\\expr.py:828\u001b[39m in \u001b[95mparse\u001b[39m\n    return self._visitor.visit(self.expr)\n",
      "  File \u001b[92m~\\anaconda3\\envs\\atulshahi\\Lib\\site-packages\\pandas\\core\\computation\\expr.py:409\u001b[39m in \u001b[95mvisit\u001b[39m\n    raise e\n",
      "  File \u001b[92m~\\anaconda3\\envs\\atulshahi\\Lib\\site-packages\\pandas\\core\\computation\\expr.py:405\u001b[39m in \u001b[95mvisit\u001b[39m\n    node = ast.fix_missing_locations(ast.parse(clean))\n",
      "\u001b[36m  \u001b[39m\u001b[36mFile \u001b[39m\u001b[32m~\\anaconda3\\envs\\atulshahi\\Lib\\ast.py:50\u001b[39m\u001b[36m in \u001b[39m\u001b[35mparse\u001b[39m\n\u001b[31m    \u001b[39m\u001b[31mreturn compile(source, filename, mode, flags,\u001b[39m\n",
      "  \u001b[36mFile \u001b[39m\u001b[32m<unknown>:1\u001b[39m\n\u001b[31m    \u001b[39m\u001b[31mYear >2020 and IMDb Rating >6\u001b[39m\n                        ^\n\u001b[31mSyntaxError\u001b[39m\u001b[31m:\u001b[39m Python keyword not valid identifier in numexpr query\n"
     ]
    }
   ],
   "source": [
    "c = pf.query(\"Year >2020 and IMDb Rating > 6\")"
   ]
  },
  {
   "cell_type": "code",
   "execution_count": 67,
   "id": "d233c907-c1c1-46b7-a7cb-0ebd09eb029e",
   "metadata": {},
   "outputs": [
    {
     "name": "stdout",
     "output_type": "stream",
     "text": [
      "                  Movie  Year Hit/Flop             Actor  IMDb Rating\n",
      "5                Sultan  2021      Hit    Hrithik Roshan          9.8\n",
      "13               Sultan  2024      Hit    Hrithik Roshan          7.8\n",
      "23                Sanju  2022      Hit      Varun Dhawan          8.5\n",
      "37               Kaabil  2024     Flop        Aamir Khan          5.7\n",
      "41             Drishyam  2022      Hit      Varun Dhawan          8.0\n",
      "48                   PK  2024     Flop        Allu Arjun          6.6\n",
      "50                  RRR  2022      Hit       Salman Khan          5.9\n",
      "54               Race 3  2021      Hit      Varun Dhawan          6.3\n",
      "59              Tamasha  2024      Hit     Vicky Kaushal          7.1\n",
      "73                Sanju  2021      Hit      Akshay Kumar          4.6\n",
      "83   Laal Singh Chaddha  2022      Hit  Amitabh Bachchan          9.1\n",
      "86              Tamasha  2023      Hit              Yash          4.3\n",
      "95                Don 2  2023     Flop        Ajay Devgn          5.4\n",
      "100            Drishyam  2022     Flop     Vicky Kaushal          4.9\n",
      "112          Chhichhore  2021      Hit     Rajkummar Rao          6.2\n",
      "115              Kesari  2022     Flop     Rajkummar Rao          6.9\n",
      "120               Jawan  2022     Flop     Rajkummar Rao          7.1\n",
      "123              Kaabil  2024     Flop              Yash          6.4\n",
      "139         Kabir Singh  2021      Hit  Amitabh Bachchan          5.6\n",
      "150                 Fan  2022     Flop      Akshay Kumar          7.0\n",
      "176            Super 30  2024     Flop    Hrithik Roshan          4.6\n",
      "179            Super 30  2021     Flop  Amitabh Bachchan          6.5\n",
      "180             Tanhaji  2023      Hit        Ram Charan          9.9\n",
      "187               Radhe  2023     Flop    Hrithik Roshan          5.3\n",
      "199             Tamasha  2021      Hit  Amitabh Bachchan          8.9\n",
      "203           Andhadhun  2024      Hit        Allu Arjun          9.1\n",
      "204                Zero  2024      Hit       Salman Khan          5.1\n",
      "213         Housefull 4  2021      Hit      Akshay Kumar          5.7\n",
      "219               Sanju  2022      Hit    Hrithik Roshan          6.7\n",
      "226              Kaabil  2023     Flop    Shah Rukh Khan          6.1\n",
      "228         Kabir Singh  2022     Flop     Vicky Kaushal          7.2\n",
      "235                Zero  2022     Flop      Varun Dhawan          6.5\n",
      "237             Tamasha  2023      Hit              Yash          8.9\n",
      "256           Gully Boy  2024      Hit        Ram Charan          8.0\n",
      "259         Kabir Singh  2021      Hit        Allu Arjun          9.8\n",
      "263           Baahubali  2021     Flop    Shah Rukh Khan          4.9\n",
      "265            Drishyam  2021     Flop        Ajay Devgn          5.6\n",
      "279          Chhichhore  2021      Hit        Aamir Khan          8.1\n",
      "280             Tamasha  2021     Flop      Varun Dhawan          9.7\n",
      "287          Brahmastra  2023     Flop     Rajkummar Rao          4.6\n",
      "289                  PK  2024      Hit     Rajkummar Rao          5.9\n"
     ]
    }
   ],
   "source": [
    "print(c)"
   ]
  },
  {
   "cell_type": "code",
   "execution_count": null,
   "id": "019c3632-f71b-4746-93b1-0b88d15070bf",
   "metadata": {},
   "outputs": [],
   "source": []
  },
  {
   "cell_type": "code",
   "execution_count": null,
   "id": "96c67da1-f449-44df-a03c-027e0203a4de",
   "metadata": {},
   "outputs": [],
   "source": []
  }
 ],
 "metadata": {
  "kernelspec": {
   "display_name": "Python [conda env:atulshahi]",
   "language": "python",
   "name": "conda-env-atulshahi-py"
  },
  "language_info": {
   "codemirror_mode": {
    "name": "ipython",
    "version": 3
   },
   "file_extension": ".py",
   "mimetype": "text/x-python",
   "name": "python",
   "nbconvert_exporter": "python",
   "pygments_lexer": "ipython3",
   "version": "3.13.5"
  }
 },
 "nbformat": 4,
 "nbformat_minor": 5
}

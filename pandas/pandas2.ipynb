{
 "cells": [
  {
   "cell_type": "code",
   "execution_count": 1,
   "id": "e3beb4f1-83df-4bed-a7ea-b926dcf093e4",
   "metadata": {},
   "outputs": [],
   "source": [
    "import pandas as pd\n"
   ]
  },
  {
   "cell_type": "code",
   "execution_count": 2,
   "id": "96bf7e0f-6549-464b-8a76-571e1c5d831e",
   "metadata": {},
   "outputs": [],
   "source": [
    "df = pd.read_csv(\"movies_dataset.csv\")"
   ]
  },
  {
   "cell_type": "code",
   "execution_count": 3,
   "id": "932ef1ed-8964-4aaf-9c6f-f9abde248608",
   "metadata": {},
   "outputs": [
    {
     "data": {
      "text/html": [
       "<div>\n",
       "<style scoped>\n",
       "    .dataframe tbody tr th:only-of-type {\n",
       "        vertical-align: middle;\n",
       "    }\n",
       "\n",
       "    .dataframe tbody tr th {\n",
       "        vertical-align: top;\n",
       "    }\n",
       "\n",
       "    .dataframe thead th {\n",
       "        text-align: right;\n",
       "    }\n",
       "</style>\n",
       "<table border=\"1\" class=\"dataframe\">\n",
       "  <thead>\n",
       "    <tr style=\"text-align: right;\">\n",
       "      <th></th>\n",
       "      <th>Movie</th>\n",
       "      <th>Year</th>\n",
       "      <th>Hit/Flop</th>\n",
       "      <th>Actor</th>\n",
       "    </tr>\n",
       "  </thead>\n",
       "  <tbody>\n",
       "    <tr>\n",
       "      <th>0</th>\n",
       "      <td>Baahubali 2</td>\n",
       "      <td>2017</td>\n",
       "      <td>Flop</td>\n",
       "      <td>Ajay Devgn</td>\n",
       "    </tr>\n",
       "    <tr>\n",
       "      <th>1</th>\n",
       "      <td>RRR</td>\n",
       "      <td>2005</td>\n",
       "      <td>Hit</td>\n",
       "      <td>Ranbir Kapoor</td>\n",
       "    </tr>\n",
       "    <tr>\n",
       "      <th>2</th>\n",
       "      <td>Gully Boy</td>\n",
       "      <td>2003</td>\n",
       "      <td>Flop</td>\n",
       "      <td>Shah Rukh Khan</td>\n",
       "    </tr>\n",
       "    <tr>\n",
       "      <th>3</th>\n",
       "      <td>Badla</td>\n",
       "      <td>2005</td>\n",
       "      <td>Hit</td>\n",
       "      <td>Ranbir Kapoor</td>\n",
       "    </tr>\n",
       "    <tr>\n",
       "      <th>4</th>\n",
       "      <td>Brahmastra</td>\n",
       "      <td>2016</td>\n",
       "      <td>Hit</td>\n",
       "      <td>Hrithik Roshan</td>\n",
       "    </tr>\n",
       "    <tr>\n",
       "      <th>...</th>\n",
       "      <td>...</td>\n",
       "      <td>...</td>\n",
       "      <td>...</td>\n",
       "      <td>...</td>\n",
       "    </tr>\n",
       "    <tr>\n",
       "      <th>295</th>\n",
       "      <td>Dilwale</td>\n",
       "      <td>2016</td>\n",
       "      <td>Hit</td>\n",
       "      <td>Amitabh Bachchan</td>\n",
       "    </tr>\n",
       "    <tr>\n",
       "      <th>296</th>\n",
       "      <td>War</td>\n",
       "      <td>2006</td>\n",
       "      <td>Hit</td>\n",
       "      <td>Akshay Kumar</td>\n",
       "    </tr>\n",
       "    <tr>\n",
       "      <th>297</th>\n",
       "      <td>Dilwale</td>\n",
       "      <td>2008</td>\n",
       "      <td>Flop</td>\n",
       "      <td>Ranbir Kapoor</td>\n",
       "    </tr>\n",
       "    <tr>\n",
       "      <th>298</th>\n",
       "      <td>Sultan</td>\n",
       "      <td>2015</td>\n",
       "      <td>Hit</td>\n",
       "      <td>Rajkummar Rao</td>\n",
       "    </tr>\n",
       "    <tr>\n",
       "      <th>299</th>\n",
       "      <td>Pushpa: The Rise</td>\n",
       "      <td>2007</td>\n",
       "      <td>Flop</td>\n",
       "      <td>Rajkummar Rao</td>\n",
       "    </tr>\n",
       "  </tbody>\n",
       "</table>\n",
       "<p>300 rows × 4 columns</p>\n",
       "</div>"
      ],
      "text/plain": [
       "                Movie  Year Hit/Flop             Actor\n",
       "0         Baahubali 2  2017     Flop        Ajay Devgn\n",
       "1                 RRR  2005      Hit     Ranbir Kapoor\n",
       "2           Gully Boy  2003     Flop    Shah Rukh Khan\n",
       "3               Badla  2005      Hit     Ranbir Kapoor\n",
       "4          Brahmastra  2016      Hit    Hrithik Roshan\n",
       "..                ...   ...      ...               ...\n",
       "295           Dilwale  2016      Hit  Amitabh Bachchan\n",
       "296               War  2006      Hit      Akshay Kumar\n",
       "297           Dilwale  2008     Flop     Ranbir Kapoor\n",
       "298            Sultan  2015      Hit     Rajkummar Rao\n",
       "299  Pushpa: The Rise  2007     Flop     Rajkummar Rao\n",
       "\n",
       "[300 rows x 4 columns]"
      ]
     },
     "execution_count": 3,
     "metadata": {},
     "output_type": "execute_result"
    }
   ],
   "source": [
    "df"
   ]
  },
  {
   "cell_type": "code",
   "execution_count": 14,
   "id": "9284dc61-8c32-41f8-bd4b-f66d8c734f33",
   "metadata": {},
   "outputs": [
    {
     "data": {
      "text/plain": [
       "pandas.core.series.Series"
      ]
     },
     "execution_count": 14,
     "metadata": {},
     "output_type": "execute_result"
    }
   ],
   "source": [
    "type(df[\"Actor\"])"
   ]
  },
  {
   "cell_type": "code",
   "execution_count": 16,
   "id": "3068de00-4b0b-4441-8fe4-709c6763134a",
   "metadata": {},
   "outputs": [
    {
     "data": {
      "text/html": [
       "<div>\n",
       "<style scoped>\n",
       "    .dataframe tbody tr th:only-of-type {\n",
       "        vertical-align: middle;\n",
       "    }\n",
       "\n",
       "    .dataframe tbody tr th {\n",
       "        vertical-align: top;\n",
       "    }\n",
       "\n",
       "    .dataframe thead th {\n",
       "        text-align: right;\n",
       "    }\n",
       "</style>\n",
       "<table border=\"1\" class=\"dataframe\">\n",
       "  <thead>\n",
       "    <tr style=\"text-align: right;\">\n",
       "      <th></th>\n",
       "      <th>Actor</th>\n",
       "      <th>Movie</th>\n",
       "    </tr>\n",
       "  </thead>\n",
       "  <tbody>\n",
       "    <tr>\n",
       "      <th>0</th>\n",
       "      <td>Ajay Devgn</td>\n",
       "      <td>Baahubali 2</td>\n",
       "    </tr>\n",
       "    <tr>\n",
       "      <th>1</th>\n",
       "      <td>Ranbir Kapoor</td>\n",
       "      <td>RRR</td>\n",
       "    </tr>\n",
       "    <tr>\n",
       "      <th>2</th>\n",
       "      <td>Shah Rukh Khan</td>\n",
       "      <td>Gully Boy</td>\n",
       "    </tr>\n",
       "    <tr>\n",
       "      <th>3</th>\n",
       "      <td>Ranbir Kapoor</td>\n",
       "      <td>Badla</td>\n",
       "    </tr>\n",
       "    <tr>\n",
       "      <th>4</th>\n",
       "      <td>Hrithik Roshan</td>\n",
       "      <td>Brahmastra</td>\n",
       "    </tr>\n",
       "    <tr>\n",
       "      <th>...</th>\n",
       "      <td>...</td>\n",
       "      <td>...</td>\n",
       "    </tr>\n",
       "    <tr>\n",
       "      <th>295</th>\n",
       "      <td>Amitabh Bachchan</td>\n",
       "      <td>Dilwale</td>\n",
       "    </tr>\n",
       "    <tr>\n",
       "      <th>296</th>\n",
       "      <td>Akshay Kumar</td>\n",
       "      <td>War</td>\n",
       "    </tr>\n",
       "    <tr>\n",
       "      <th>297</th>\n",
       "      <td>Ranbir Kapoor</td>\n",
       "      <td>Dilwale</td>\n",
       "    </tr>\n",
       "    <tr>\n",
       "      <th>298</th>\n",
       "      <td>Rajkummar Rao</td>\n",
       "      <td>Sultan</td>\n",
       "    </tr>\n",
       "    <tr>\n",
       "      <th>299</th>\n",
       "      <td>Rajkummar Rao</td>\n",
       "      <td>Pushpa: The Rise</td>\n",
       "    </tr>\n",
       "  </tbody>\n",
       "</table>\n",
       "<p>300 rows × 2 columns</p>\n",
       "</div>"
      ],
      "text/plain": [
       "                Actor             Movie\n",
       "0          Ajay Devgn       Baahubali 2\n",
       "1       Ranbir Kapoor               RRR\n",
       "2      Shah Rukh Khan         Gully Boy\n",
       "3       Ranbir Kapoor             Badla\n",
       "4      Hrithik Roshan        Brahmastra\n",
       "..                ...               ...\n",
       "295  Amitabh Bachchan           Dilwale\n",
       "296      Akshay Kumar               War\n",
       "297     Ranbir Kapoor           Dilwale\n",
       "298     Rajkummar Rao            Sultan\n",
       "299     Rajkummar Rao  Pushpa: The Rise\n",
       "\n",
       "[300 rows x 2 columns]"
      ]
     },
     "execution_count": 16,
     "metadata": {},
     "output_type": "execute_result"
    }
   ],
   "source": [
    "df[[\"Actor\",\"Movie\"]]"
   ]
  },
  {
   "cell_type": "code",
   "execution_count": 18,
   "id": "ac96d248-1838-48fc-bcee-2adb35399352",
   "metadata": {},
   "outputs": [
    {
     "data": {
      "text/html": [
       "<div>\n",
       "<style scoped>\n",
       "    .dataframe tbody tr th:only-of-type {\n",
       "        vertical-align: middle;\n",
       "    }\n",
       "\n",
       "    .dataframe tbody tr th {\n",
       "        vertical-align: top;\n",
       "    }\n",
       "\n",
       "    .dataframe thead th {\n",
       "        text-align: right;\n",
       "    }\n",
       "</style>\n",
       "<table border=\"1\" class=\"dataframe\">\n",
       "  <thead>\n",
       "    <tr style=\"text-align: right;\">\n",
       "      <th></th>\n",
       "      <th>Movie</th>\n",
       "      <th>Year</th>\n",
       "      <th>Hit/Flop</th>\n",
       "      <th>Actor</th>\n",
       "    </tr>\n",
       "  </thead>\n",
       "  <tbody>\n",
       "    <tr>\n",
       "      <th>0</th>\n",
       "      <td>Baahubali 2</td>\n",
       "      <td>2017</td>\n",
       "      <td>Flop</td>\n",
       "      <td>Ajay Devgn</td>\n",
       "    </tr>\n",
       "    <tr>\n",
       "      <th>1</th>\n",
       "      <td>RRR</td>\n",
       "      <td>2005</td>\n",
       "      <td>Hit</td>\n",
       "      <td>Ranbir Kapoor</td>\n",
       "    </tr>\n",
       "    <tr>\n",
       "      <th>2</th>\n",
       "      <td>Gully Boy</td>\n",
       "      <td>2003</td>\n",
       "      <td>Flop</td>\n",
       "      <td>Shah Rukh Khan</td>\n",
       "    </tr>\n",
       "    <tr>\n",
       "      <th>3</th>\n",
       "      <td>Badla</td>\n",
       "      <td>2005</td>\n",
       "      <td>Hit</td>\n",
       "      <td>Ranbir Kapoor</td>\n",
       "    </tr>\n",
       "    <tr>\n",
       "      <th>4</th>\n",
       "      <td>Brahmastra</td>\n",
       "      <td>2016</td>\n",
       "      <td>Hit</td>\n",
       "      <td>Hrithik Roshan</td>\n",
       "    </tr>\n",
       "  </tbody>\n",
       "</table>\n",
       "</div>"
      ],
      "text/plain": [
       "         Movie  Year Hit/Flop           Actor\n",
       "0  Baahubali 2  2017     Flop      Ajay Devgn\n",
       "1          RRR  2005      Hit   Ranbir Kapoor\n",
       "2    Gully Boy  2003     Flop  Shah Rukh Khan\n",
       "3        Badla  2005      Hit   Ranbir Kapoor\n",
       "4   Brahmastra  2016      Hit  Hrithik Roshan"
      ]
     },
     "execution_count": 18,
     "metadata": {},
     "output_type": "execute_result"
    }
   ],
   "source": [
    "df.head()"
   ]
  },
  {
   "cell_type": "code",
   "execution_count": 20,
   "id": "77d92b62-342e-4ec8-8ca9-5c95070efe71",
   "metadata": {},
   "outputs": [
    {
     "data": {
      "text/plain": [
       "Movie                 RRR\n",
       "Year                 2005\n",
       "Hit/Flop              Hit\n",
       "Actor       Ranbir Kapoor\n",
       "Name: 1, dtype: object"
      ]
     },
     "execution_count": 20,
     "metadata": {},
     "output_type": "execute_result"
    }
   ],
   "source": [
    "df.loc[1]"
   ]
  },
  {
   "cell_type": "code",
   "execution_count": 21,
   "id": "72d49280-e35c-4be6-baa5-32d7ea9e834f",
   "metadata": {},
   "outputs": [
    {
     "data": {
      "text/plain": [
       "Movie               Sultan\n",
       "Year                  2021\n",
       "Hit/Flop               Hit\n",
       "Actor       Hrithik Roshan\n",
       "Name: 5, dtype: object"
      ]
     },
     "execution_count": 21,
     "metadata": {},
     "output_type": "execute_result"
    }
   ],
   "source": [
    "df.iloc[5]"
   ]
  },
  {
   "cell_type": "code",
   "execution_count": null,
   "id": "dc7879a4-8ceb-460c-a229-cd51888b6a99",
   "metadata": {},
   "outputs": [],
   "source": []
  }
 ],
 "metadata": {
  "kernelspec": {
   "display_name": "Python [conda env:atulshahi]",
   "language": "python",
   "name": "conda-env-atulshahi-py"
  },
  "language_info": {
   "codemirror_mode": {
    "name": "ipython",
    "version": 3
   },
   "file_extension": ".py",
   "mimetype": "text/x-python",
   "name": "python",
   "nbconvert_exporter": "python",
   "pygments_lexer": "ipython3",
   "version": "3.13.5"
  }
 },
 "nbformat": 4,
 "nbformat_minor": 5
}

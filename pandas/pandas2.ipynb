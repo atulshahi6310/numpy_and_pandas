{
 "cells": [
  {
   "cell_type": "code",
   "execution_count": null,
   "id": "e3beb4f1-83df-4bed-a7ea-b926dcf093e4",
   "metadata": {},
   "outputs": [],
   "source": []
  }
 ],
 "metadata": {
  "kernelspec": {
   "display_name": "Python [conda env:atulshahi]",
   "language": "python",
   "name": "conda-env-atulshahi-py"
  },
  "language_info": {
   "codemirror_mode": {
    "name": "ipython",
    "version": 3
   },
   "file_extension": ".py",
   "mimetype": "text/x-python",
   "name": "python",
   "nbconvert_exporter": "python",
   "pygments_lexer": "ipython3",
   "version": "3.13.5"
  }
 },
 "nbformat": 4,
 "nbformat_minor": 5
}

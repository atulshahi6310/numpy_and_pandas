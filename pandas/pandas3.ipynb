{
 "cells": [
  {
   "cell_type": "code",
   "execution_count": 1,
   "id": "e4f7fe80-0132-479e-b957-56c0c686d840",
   "metadata": {},
   "outputs": [],
   "source": [
    "import pandas as pd"
   ]
  },
  {
   "cell_type": "code",
   "execution_count": 2,
   "id": "8af8598d-7cd9-4ac6-b6ca-1645aced8845",
   "metadata": {},
   "outputs": [],
   "source": [
    "df = pd.read_csv(\"movies_dataset.csv\")"
   ]
  },
  {
   "cell_type": "code",
   "execution_count": 3,
   "id": "0761f70c-3545-4c59-8687-c94cb66ae34b",
   "metadata": {},
   "outputs": [
    {
     "data": {
      "text/html": [
       "<div>\n",
       "<style scoped>\n",
       "    .dataframe tbody tr th:only-of-type {\n",
       "        vertical-align: middle;\n",
       "    }\n",
       "\n",
       "    .dataframe tbody tr th {\n",
       "        vertical-align: top;\n",
       "    }\n",
       "\n",
       "    .dataframe thead th {\n",
       "        text-align: right;\n",
       "    }\n",
       "</style>\n",
       "<table border=\"1\" class=\"dataframe\">\n",
       "  <thead>\n",
       "    <tr style=\"text-align: right;\">\n",
       "      <th></th>\n",
       "      <th>Movie</th>\n",
       "      <th>Year</th>\n",
       "      <th>IMDB</th>\n",
       "      <th>Actor</th>\n",
       "    </tr>\n",
       "  </thead>\n",
       "  <tbody>\n",
       "    <tr>\n",
       "      <th>0</th>\n",
       "      <td>Baahubali 2</td>\n",
       "      <td>2017</td>\n",
       "      <td>Flop</td>\n",
       "      <td>Ajay Devgn</td>\n",
       "    </tr>\n",
       "    <tr>\n",
       "      <th>1</th>\n",
       "      <td>RRR</td>\n",
       "      <td>2005</td>\n",
       "      <td>Hit</td>\n",
       "      <td>Ranbir Kapoor</td>\n",
       "    </tr>\n",
       "    <tr>\n",
       "      <th>2</th>\n",
       "      <td>Gully Boy</td>\n",
       "      <td>2003</td>\n",
       "      <td>Flop</td>\n",
       "      <td>Shah Rukh Khan</td>\n",
       "    </tr>\n",
       "    <tr>\n",
       "      <th>3</th>\n",
       "      <td>Badla</td>\n",
       "      <td>2005</td>\n",
       "      <td>Hit</td>\n",
       "      <td>Ranbir Kapoor</td>\n",
       "    </tr>\n",
       "    <tr>\n",
       "      <th>4</th>\n",
       "      <td>Brahmastra</td>\n",
       "      <td>2016</td>\n",
       "      <td>Hit</td>\n",
       "      <td>Hrithik Roshan</td>\n",
       "    </tr>\n",
       "    <tr>\n",
       "      <th>...</th>\n",
       "      <td>...</td>\n",
       "      <td>...</td>\n",
       "      <td>...</td>\n",
       "      <td>...</td>\n",
       "    </tr>\n",
       "    <tr>\n",
       "      <th>295</th>\n",
       "      <td>Dilwale</td>\n",
       "      <td>2016</td>\n",
       "      <td>Hit</td>\n",
       "      <td>Amitabh Bachchan</td>\n",
       "    </tr>\n",
       "    <tr>\n",
       "      <th>296</th>\n",
       "      <td>War</td>\n",
       "      <td>2006</td>\n",
       "      <td>Hit</td>\n",
       "      <td>Akshay Kumar</td>\n",
       "    </tr>\n",
       "    <tr>\n",
       "      <th>297</th>\n",
       "      <td>Dilwale</td>\n",
       "      <td>2008</td>\n",
       "      <td>Flop</td>\n",
       "      <td>Ranbir Kapoor</td>\n",
       "    </tr>\n",
       "    <tr>\n",
       "      <th>298</th>\n",
       "      <td>Sultan</td>\n",
       "      <td>2015</td>\n",
       "      <td>Hit</td>\n",
       "      <td>Rajkummar Rao</td>\n",
       "    </tr>\n",
       "    <tr>\n",
       "      <th>299</th>\n",
       "      <td>Pushpa: The Rise</td>\n",
       "      <td>2007</td>\n",
       "      <td>Flop</td>\n",
       "      <td>Rajkummar Rao</td>\n",
       "    </tr>\n",
       "  </tbody>\n",
       "</table>\n",
       "<p>300 rows × 4 columns</p>\n",
       "</div>"
      ],
      "text/plain": [
       "                Movie  Year  IMDB             Actor\n",
       "0         Baahubali 2  2017  Flop        Ajay Devgn\n",
       "1                 RRR  2005   Hit     Ranbir Kapoor\n",
       "2           Gully Boy  2003  Flop    Shah Rukh Khan\n",
       "3               Badla  2005   Hit     Ranbir Kapoor\n",
       "4          Brahmastra  2016   Hit    Hrithik Roshan\n",
       "..                ...   ...   ...               ...\n",
       "295           Dilwale  2016   Hit  Amitabh Bachchan\n",
       "296               War  2006   Hit      Akshay Kumar\n",
       "297           Dilwale  2008  Flop     Ranbir Kapoor\n",
       "298            Sultan  2015   Hit     Rajkummar Rao\n",
       "299  Pushpa: The Rise  2007  Flop     Rajkummar Rao\n",
       "\n",
       "[300 rows x 4 columns]"
      ]
     },
     "execution_count": 3,
     "metadata": {},
     "output_type": "execute_result"
    }
   ],
   "source": [
    "df"
   ]
  },
  {
   "cell_type": "code",
   "execution_count": 4,
   "id": "ccf2f4e6-c9e7-48d6-8907-671cea67ca4b",
   "metadata": {},
   "outputs": [
    {
     "data": {
      "text/plain": [
       "Movie    Baahubali 2\n",
       "Year            2017\n",
       "IMDB            Flop\n",
       "Actor     Ajay Devgn\n",
       "Name: 0, dtype: object"
      ]
     },
     "execution_count": 4,
     "metadata": {},
     "output_type": "execute_result"
    }
   ],
   "source": [
    "df.loc[0]"
   ]
  },
  {
   "cell_type": "code",
   "execution_count": 5,
   "id": "7ddaaf70-176e-466e-85bc-721ec56ede3d",
   "metadata": {},
   "outputs": [
    {
     "data": {
      "text/plain": [
       "Movie    Baahubali 2\n",
       "Year            2017\n",
       "IMDB            Flop\n",
       "Actor     Ajay Devgn\n",
       "Name: 0, dtype: object"
      ]
     },
     "execution_count": 5,
     "metadata": {},
     "output_type": "execute_result"
    }
   ],
   "source": [
    "df.iloc[0]"
   ]
  },
  {
   "cell_type": "code",
   "execution_count": 6,
   "id": "73ce3d10-cda7-4e27-9a0e-56b94c64f02c",
   "metadata": {},
   "outputs": [
    {
     "data": {
      "text/plain": [
       "'Ajay Devgn'"
      ]
     },
     "execution_count": 6,
     "metadata": {},
     "output_type": "execute_result"
    }
   ],
   "source": [
    "df.loc[0,\"Actor\"]"
   ]
  },
  {
   "cell_type": "code",
   "execution_count": 8,
   "id": "72b2f064-6370-4206-9e55-bde37fb6a523",
   "metadata": {},
   "outputs": [
    {
     "data": {
      "text/plain": [
       "'Hrithik Roshan'"
      ]
     },
     "execution_count": 8,
     "metadata": {},
     "output_type": "execute_result"
    }
   ],
   "source": [
    "df.iloc[4,3]"
   ]
  },
  {
   "cell_type": "code",
   "execution_count": 11,
   "id": "1e7bc3ad-cb82-48fe-a641-8f0e418a5409",
   "metadata": {},
   "outputs": [
    {
     "data": {
      "text/plain": [
       "np.int64(2017)"
      ]
     },
     "execution_count": 11,
     "metadata": {},
     "output_type": "execute_result"
    }
   ],
   "source": [
    "df.loc[0,\"Year\"]"
   ]
  },
  {
   "cell_type": "code",
   "execution_count": 15,
   "id": "342f49cc-67ad-41b8-abde-2193c1a4a6d7",
   "metadata": {},
   "outputs": [
    {
     "data": {
      "text/html": [
       "<div>\n",
       "<style scoped>\n",
       "    .dataframe tbody tr th:only-of-type {\n",
       "        vertical-align: middle;\n",
       "    }\n",
       "\n",
       "    .dataframe tbody tr th {\n",
       "        vertical-align: top;\n",
       "    }\n",
       "\n",
       "    .dataframe thead th {\n",
       "        text-align: right;\n",
       "    }\n",
       "</style>\n",
       "<table border=\"1\" class=\"dataframe\">\n",
       "  <thead>\n",
       "    <tr style=\"text-align: right;\">\n",
       "      <th></th>\n",
       "      <th>Actor</th>\n",
       "      <th>Movie</th>\n",
       "    </tr>\n",
       "  </thead>\n",
       "  <tbody>\n",
       "    <tr>\n",
       "      <th>0</th>\n",
       "      <td>Ajay Devgn</td>\n",
       "      <td>Baahubali 2</td>\n",
       "    </tr>\n",
       "    <tr>\n",
       "      <th>1</th>\n",
       "      <td>Ranbir Kapoor</td>\n",
       "      <td>RRR</td>\n",
       "    </tr>\n",
       "    <tr>\n",
       "      <th>2</th>\n",
       "      <td>Shah Rukh Khan</td>\n",
       "      <td>Gully Boy</td>\n",
       "    </tr>\n",
       "  </tbody>\n",
       "</table>\n",
       "</div>"
      ],
      "text/plain": [
       "            Actor        Movie\n",
       "0      Ajay Devgn  Baahubali 2\n",
       "1   Ranbir Kapoor          RRR\n",
       "2  Shah Rukh Khan    Gully Boy"
      ]
     },
     "execution_count": 15,
     "metadata": {},
     "output_type": "execute_result"
    }
   ],
   "source": [
    "df.loc[0:2, [\"Actor\", \"Movie\"]] # Rows 0 to 2, selected columns\n"
   ]
  },
  {
   "cell_type": "code",
   "execution_count": 16,
   "id": "a7ed9173-771a-45b9-aab5-b50f47e744f4",
   "metadata": {},
   "outputs": [
    {
     "data": {
      "text/html": [
       "<div>\n",
       "<style scoped>\n",
       "    .dataframe tbody tr th:only-of-type {\n",
       "        vertical-align: middle;\n",
       "    }\n",
       "\n",
       "    .dataframe tbody tr th {\n",
       "        vertical-align: top;\n",
       "    }\n",
       "\n",
       "    .dataframe thead th {\n",
       "        text-align: right;\n",
       "    }\n",
       "</style>\n",
       "<table border=\"1\" class=\"dataframe\">\n",
       "  <thead>\n",
       "    <tr style=\"text-align: right;\">\n",
       "      <th></th>\n",
       "      <th>Movie</th>\n",
       "      <th>Year</th>\n",
       "    </tr>\n",
       "  </thead>\n",
       "  <tbody>\n",
       "    <tr>\n",
       "      <th>0</th>\n",
       "      <td>Baahubali 2</td>\n",
       "      <td>2017</td>\n",
       "    </tr>\n",
       "    <tr>\n",
       "      <th>1</th>\n",
       "      <td>RRR</td>\n",
       "      <td>2005</td>\n",
       "    </tr>\n",
       "  </tbody>\n",
       "</table>\n",
       "</div>"
      ],
      "text/plain": [
       "         Movie  Year\n",
       "0  Baahubali 2  2017\n",
       "1          RRR  2005"
      ]
     },
     "execution_count": 16,
     "metadata": {},
     "output_type": "execute_result"
    }
   ],
   "source": [
    "df.iloc[0:2, 0:2]"
   ]
  },
  {
   "cell_type": "code",
   "execution_count": 18,
   "id": "94b90dd7-a30c-4659-9136-a38b34a72442",
   "metadata": {},
   "outputs": [
    {
     "data": {
      "text/plain": [
       "'Hrithik Roshan'"
      ]
     },
     "execution_count": 18,
     "metadata": {},
     "output_type": "execute_result"
    }
   ],
   "source": [
    "df.at[4,\"Actor\"]  ## fasst access by lable"
   ]
  },
  {
   "cell_type": "code",
   "execution_count": 19,
   "id": "30684a2f-1e36-4e6f-82b8-5809adf0a96f",
   "metadata": {},
   "outputs": [
    {
     "data": {
      "text/plain": [
       "'Hrithik Roshan'"
      ]
     },
     "execution_count": 19,
     "metadata": {},
     "output_type": "execute_result"
    }
   ],
   "source": [
    "df.iat[4,3]"
   ]
  },
  {
   "cell_type": "code",
   "execution_count": 21,
   "id": "223649d6-d00d-4658-ad41-c0f1d2177c80",
   "metadata": {},
   "outputs": [
    {
     "data": {
      "text/html": [
       "<div>\n",
       "<style scoped>\n",
       "    .dataframe tbody tr th:only-of-type {\n",
       "        vertical-align: middle;\n",
       "    }\n",
       "\n",
       "    .dataframe tbody tr th {\n",
       "        vertical-align: top;\n",
       "    }\n",
       "\n",
       "    .dataframe thead th {\n",
       "        text-align: right;\n",
       "    }\n",
       "</style>\n",
       "<table border=\"1\" class=\"dataframe\">\n",
       "  <thead>\n",
       "    <tr style=\"text-align: right;\">\n",
       "      <th></th>\n",
       "      <th>Movie</th>\n",
       "      <th>Year</th>\n",
       "      <th>IMDB</th>\n",
       "      <th>Actor</th>\n",
       "    </tr>\n",
       "  </thead>\n",
       "  <tbody>\n",
       "    <tr>\n",
       "      <th>13</th>\n",
       "      <td>Sultan</td>\n",
       "      <td>2024</td>\n",
       "      <td>Hit</td>\n",
       "      <td>Hrithik Roshan</td>\n",
       "    </tr>\n",
       "    <tr>\n",
       "      <th>37</th>\n",
       "      <td>Kaabil</td>\n",
       "      <td>2024</td>\n",
       "      <td>Flop</td>\n",
       "      <td>Aamir Khan</td>\n",
       "    </tr>\n",
       "    <tr>\n",
       "      <th>48</th>\n",
       "      <td>PK</td>\n",
       "      <td>2024</td>\n",
       "      <td>Flop</td>\n",
       "      <td>Allu Arjun</td>\n",
       "    </tr>\n",
       "    <tr>\n",
       "      <th>59</th>\n",
       "      <td>Tamasha</td>\n",
       "      <td>2024</td>\n",
       "      <td>Hit</td>\n",
       "      <td>Vicky Kaushal</td>\n",
       "    </tr>\n",
       "    <tr>\n",
       "      <th>86</th>\n",
       "      <td>Tamasha</td>\n",
       "      <td>2023</td>\n",
       "      <td>Hit</td>\n",
       "      <td>Yash</td>\n",
       "    </tr>\n",
       "    <tr>\n",
       "      <th>95</th>\n",
       "      <td>Don 2</td>\n",
       "      <td>2023</td>\n",
       "      <td>Flop</td>\n",
       "      <td>Ajay Devgn</td>\n",
       "    </tr>\n",
       "    <tr>\n",
       "      <th>123</th>\n",
       "      <td>Kaabil</td>\n",
       "      <td>2024</td>\n",
       "      <td>Flop</td>\n",
       "      <td>Yash</td>\n",
       "    </tr>\n",
       "    <tr>\n",
       "      <th>176</th>\n",
       "      <td>Super 30</td>\n",
       "      <td>2024</td>\n",
       "      <td>Flop</td>\n",
       "      <td>Hrithik Roshan</td>\n",
       "    </tr>\n",
       "    <tr>\n",
       "      <th>180</th>\n",
       "      <td>Tanhaji</td>\n",
       "      <td>2023</td>\n",
       "      <td>Hit</td>\n",
       "      <td>Ram Charan</td>\n",
       "    </tr>\n",
       "    <tr>\n",
       "      <th>187</th>\n",
       "      <td>Radhe</td>\n",
       "      <td>2023</td>\n",
       "      <td>Flop</td>\n",
       "      <td>Hrithik Roshan</td>\n",
       "    </tr>\n",
       "    <tr>\n",
       "      <th>203</th>\n",
       "      <td>Andhadhun</td>\n",
       "      <td>2024</td>\n",
       "      <td>Hit</td>\n",
       "      <td>Allu Arjun</td>\n",
       "    </tr>\n",
       "    <tr>\n",
       "      <th>204</th>\n",
       "      <td>Zero</td>\n",
       "      <td>2024</td>\n",
       "      <td>Hit</td>\n",
       "      <td>Salman Khan</td>\n",
       "    </tr>\n",
       "    <tr>\n",
       "      <th>226</th>\n",
       "      <td>Kaabil</td>\n",
       "      <td>2023</td>\n",
       "      <td>Flop</td>\n",
       "      <td>Shah Rukh Khan</td>\n",
       "    </tr>\n",
       "    <tr>\n",
       "      <th>237</th>\n",
       "      <td>Tamasha</td>\n",
       "      <td>2023</td>\n",
       "      <td>Hit</td>\n",
       "      <td>Yash</td>\n",
       "    </tr>\n",
       "    <tr>\n",
       "      <th>256</th>\n",
       "      <td>Gully Boy</td>\n",
       "      <td>2024</td>\n",
       "      <td>Hit</td>\n",
       "      <td>Ram Charan</td>\n",
       "    </tr>\n",
       "    <tr>\n",
       "      <th>287</th>\n",
       "      <td>Brahmastra</td>\n",
       "      <td>2023</td>\n",
       "      <td>Flop</td>\n",
       "      <td>Rajkummar Rao</td>\n",
       "    </tr>\n",
       "    <tr>\n",
       "      <th>289</th>\n",
       "      <td>PK</td>\n",
       "      <td>2024</td>\n",
       "      <td>Hit</td>\n",
       "      <td>Rajkummar Rao</td>\n",
       "    </tr>\n",
       "  </tbody>\n",
       "</table>\n",
       "</div>"
      ],
      "text/plain": [
       "          Movie  Year  IMDB           Actor\n",
       "13       Sultan  2024   Hit  Hrithik Roshan\n",
       "37       Kaabil  2024  Flop      Aamir Khan\n",
       "48           PK  2024  Flop      Allu Arjun\n",
       "59      Tamasha  2024   Hit   Vicky Kaushal\n",
       "86      Tamasha  2023   Hit            Yash\n",
       "95        Don 2  2023  Flop      Ajay Devgn\n",
       "123      Kaabil  2024  Flop            Yash\n",
       "176    Super 30  2024  Flop  Hrithik Roshan\n",
       "180     Tanhaji  2023   Hit      Ram Charan\n",
       "187       Radhe  2023  Flop  Hrithik Roshan\n",
       "203   Andhadhun  2024   Hit      Allu Arjun\n",
       "204        Zero  2024   Hit     Salman Khan\n",
       "226      Kaabil  2023  Flop  Shah Rukh Khan\n",
       "237     Tamasha  2023   Hit            Yash\n",
       "256   Gully Boy  2024   Hit      Ram Charan\n",
       "287  Brahmastra  2023  Flop   Rajkummar Rao\n",
       "289          PK  2024   Hit   Rajkummar Rao"
      ]
     },
     "execution_count": 21,
     "metadata": {},
     "output_type": "execute_result"
    }
   ],
   "source": [
    "df[df[\"Year\"] > 2022]"
   ]
  },
  {
   "cell_type": "code",
   "execution_count": 28,
   "id": "23a9cadf-b612-4a05-ab9d-c505ab4a7b80",
   "metadata": {},
   "outputs": [
    {
     "data": {
      "text/plain": [
       "<module 'pandas' from 'C:\\\\Users\\\\Lenovo\\\\anaconda3\\\\envs\\\\atulshahi\\\\Lib\\\\site-packages\\\\pandas\\\\__init__.py'>"
      ]
     },
     "execution_count": 28,
     "metadata": {},
     "output_type": "execute_result"
    }
   ],
   "source": [
    "pd"
   ]
  },
  {
   "cell_type": "code",
   "execution_count": null,
   "id": "402f4a4b-c711-449c-9725-1280166b13f4",
   "metadata": {},
   "outputs": [],
   "source": []
  },
  {
   "cell_type": "code",
   "execution_count": null,
   "id": "d7d6deac-985e-43eb-a9c3-20d60c0de9bb",
   "metadata": {},
   "outputs": [],
   "source": []
  }
 ],
 "metadata": {
  "kernelspec": {
   "display_name": "Python 3 (ipykernel)",
   "language": "python",
   "name": "python3"
  },
  "language_info": {
   "codemirror_mode": {
    "name": "ipython",
    "version": 3
   },
   "file_extension": ".py",
   "mimetype": "text/x-python",
   "name": "python",
   "nbconvert_exporter": "python",
   "pygments_lexer": "ipython3",
   "version": "3.13.5"
  }
 },
 "nbformat": 4,
 "nbformat_minor": 5
}

{
 "cells": [
  {
   "cell_type": "code",
   "execution_count": 1,
   "id": "0ae9674f-67e1-468e-872e-2b49ad704af0",
   "metadata": {},
   "outputs": [
    {
     "name": "stdout",
     "output_type": "stream",
     "text": [
      "[ 5 12  7 19  3 45  8 21 33 14 56  9  2 88 17 42 67 29 90 11 25 73]\n"
     ]
    }
   ],
   "source": [
    "import numpy as np\n",
    "\n",
    "arr = np.array([5, 12, 7, 19, 3, 45, 8, 21, 33, 14, 56, 9, 2, 88, 17, 42, 67, 29, 90, 11, 25, 73])\n",
    "print(arr)\n",
    "\n"
   ]
  },
  {
   "cell_type": "code",
   "execution_count": 12,
   "id": "2292dd4c-edb5-40f5-8659-59cf64a524fe",
   "metadata": {},
   "outputs": [
    {
     "data": {
      "text/plain": [
       "np.int64(5)"
      ]
     },
     "execution_count": 12,
     "metadata": {},
     "output_type": "execute_result"
    }
   ],
   "source": [
    "arr[0]"
   ]
  },
  {
   "cell_type": "code",
   "execution_count": 13,
   "id": "6de20a41-f557-4932-a52a-82a1cf422327",
   "metadata": {},
   "outputs": [
    {
     "name": "stdout",
     "output_type": "stream",
     "text": [
      "[12  7 19  3]\n"
     ]
    }
   ],
   "source": [
    "print(arr[1:5])"
   ]
  },
  {
   "cell_type": "code",
   "execution_count": 14,
   "id": "8b135523-a831-4dd3-a3f3-d1e0000bb620",
   "metadata": {},
   "outputs": [
    {
     "name": "stdout",
     "output_type": "stream",
     "text": [
      "[12  7 19  3]\n"
     ]
    }
   ],
   "source": [
    "print(arr[1:5])"
   ]
  },
  {
   "cell_type": "code",
   "execution_count": 17,
   "id": "c0412bed-fc34-45ea-b4a1-28b5f6ae8e28",
   "metadata": {},
   "outputs": [
    {
     "data": {
      "text/plain": [
       "array([ 5, 12,  7])"
      ]
     },
     "execution_count": 17,
     "metadata": {},
     "output_type": "execute_result"
    }
   ],
   "source": [
    "arr[:3]"
   ]
  },
  {
   "cell_type": "code",
   "execution_count": 18,
   "id": "5e75d5b2-f423-40b5-bbae-e1fae61dd146",
   "metadata": {},
   "outputs": [
    {
     "data": {
      "text/plain": [
       "array([45,  8, 21, 33, 14, 56,  9,  2, 88, 17, 42, 67, 29, 90, 11, 25, 73])"
      ]
     },
     "execution_count": 18,
     "metadata": {},
     "output_type": "execute_result"
    }
   ],
   "source": [
    "arr[5:]"
   ]
  },
  {
   "cell_type": "code",
   "execution_count": 19,
   "id": "c3bbef04-429b-45da-a4cc-cdfade4bc2d9",
   "metadata": {},
   "outputs": [
    {
     "data": {
      "text/plain": [
       "array([ 5, 19,  8, 14,  2, 42, 90, 73])"
      ]
     },
     "execution_count": 19,
     "metadata": {},
     "output_type": "execute_result"
    }
   ],
   "source": [
    "arr[::3]"
   ]
  },
  {
   "cell_type": "code",
   "execution_count": 20,
   "id": "7093b696-6dee-4657-949c-08139f069e54",
   "metadata": {},
   "outputs": [
    {
     "data": {
      "text/plain": [
       "array([ 5, 12,  7, 19,  3, 45,  8, 21, 33, 14, 56,  9,  2, 88, 17, 42, 67,\n",
       "       29, 90, 11, 25, 73])"
      ]
     },
     "execution_count": 20,
     "metadata": {},
     "output_type": "execute_result"
    }
   ],
   "source": [
    "arr"
   ]
  },
  {
   "cell_type": "code",
   "execution_count": 22,
   "id": "62f8f14e-3e08-4b35-8349-de8aa758f017",
   "metadata": {},
   "outputs": [],
   "source": [
    "b = arr[3:9]"
   ]
  },
  {
   "cell_type": "code",
   "execution_count": 23,
   "id": "b2c11d9d-a1a5-473e-b65f-4bae103f0bf9",
   "metadata": {},
   "outputs": [],
   "source": [
    "b[2] = 2222222222"
   ]
  },
  {
   "cell_type": "code",
   "execution_count": 24,
   "id": "8291f271-2ee3-42c6-9ecd-e3ae5c61eb79",
   "metadata": {},
   "outputs": [
    {
     "data": {
      "text/plain": [
       "array([        19,          3, 2222222222,          8,         21,\n",
       "               33])"
      ]
     },
     "execution_count": 24,
     "metadata": {},
     "output_type": "execute_result"
    }
   ],
   "source": [
    "b"
   ]
  },
  {
   "cell_type": "code",
   "execution_count": 25,
   "id": "3571bcb9-1a87-4715-9029-983e35a56676",
   "metadata": {},
   "outputs": [
    {
     "data": {
      "text/plain": [
       "array([         5,         12,          7,         19,          3,\n",
       "       2222222222,          8,         21,         33,         14,\n",
       "               56,          9,          2,         88,         17,\n",
       "               42,         67,         29,         90,         11,\n",
       "               25,         73])"
      ]
     },
     "execution_count": 25,
     "metadata": {},
     "output_type": "execute_result"
    }
   ],
   "source": [
    "arr"
   ]
  },
  {
   "cell_type": "code",
   "execution_count": null,
   "id": "2a4cb635-9caf-4269-b640-85f667e9addd",
   "metadata": {},
   "outputs": [],
   "source": []
  }
 ],
 "metadata": {
  "kernelspec": {
   "display_name": "Python [conda env:atulshahi]",
   "language": "python",
   "name": "conda-env-atulshahi-py"
  },
  "language_info": {
   "codemirror_mode": {
    "name": "ipython",
    "version": 3
   },
   "file_extension": ".py",
   "mimetype": "text/x-python",
   "name": "python",
   "nbconvert_exporter": "python",
   "pygments_lexer": "ipython3",
   "version": "3.13.5"
  }
 },
 "nbformat": 4,
 "nbformat_minor": 5
}

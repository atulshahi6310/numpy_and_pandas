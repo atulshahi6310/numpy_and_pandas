{
 "cells": [
  {
   "cell_type": "markdown",
   "id": "3b239c31-d0d9-4353-9e50-1d55529837a6",
   "metadata": {},
   "source": [
    "# 1)Create a NumPy array with values from 10 to 100 and print its shape.\n",
    "# 2)Compare the time taken to multiply two Python lists vs. two NumPy arrays.\n",
    "# 3)Find the memory size of a NumPy array with 1 million elements.\n",
    "\n"
   ]
  },
  {
   "cell_type": "code",
   "execution_count": 21,
   "id": "6b3efaf9-dcbb-40c2-b634-304315578a3f",
   "metadata": {},
   "outputs": [
    {
     "name": "stdout",
     "output_type": "stream",
     "text": [
      "[ 10  11  12  13  14  15  16  17  18  19  20  21  22  23  24  25  26  27\n",
      "  28  29  30  31  32  33  34  35  36  37  38  39  40  41  42  43  44  45\n",
      "  46  47  48  49  50  51  52  53  54  55  56  57  58  59  60  61  62  63\n",
      "  64  65  66  67  68  69  70  71  72  73  74  75  76  77  78  79  80  81\n",
      "  82  83  84  85  86  87  88  89  90  91  92  93  94  95  96  97  98  99\n",
      " 100]\n",
      "shahpe of array is  (91,)\n",
      "size of array is 91\n",
      "dimension of an array is 1\n",
      "arr data type is int64\n"
     ]
    }
   ],
   "source": [
    "# 1 code\n",
    "import numpy as np\n",
    "arr = np.arange(10,101,1)\n",
    "print(arr)\n",
    "print(\"shahpe of array is \" ,arr.shape)\n",
    "print(\"size of array is\", arr.size)\n",
    "print(\"dimension of an array is\" , arr.ndim)\n",
    "print(\"arr data type is\" , arr.dtype)"
   ]
  },
  {
   "cell_type": "code",
   "execution_count": 40,
   "id": "a71fc6d7-3d04-48e9-b9d5-0154c10d0cc2",
   "metadata": {},
   "outputs": [
    {
     "name": "stdout",
     "output_type": "stream",
     "text": [
      "5.903040647506714\n"
     ]
    }
   ],
   "source": [
    "'''import time \n",
    "list1 = list(range(10000))\n",
    "list2 = list(range(10000))\n",
    "start = time.time()\n",
    "result = [x+y for x,y in zip(list1 , list2)]\n",
    "end = time.time()\n",
    "print(end - start)'''"
   ]
  },
  {
   "cell_type": "code",
   "execution_count": 41,
   "id": "683e8f7b-b343-45c0-a234-4ec6758928aa",
   "metadata": {},
   "outputs": [
    {
     "data": {
      "text/plain": [
       "'list1 = list(range(10000))\\nlist2 = list(range(10000))\\narr1 = np.array(list1)\\narr2 = np.array(list2)\\nstart1 = time.time()\\nresult =  arr1 + arr2\\nend1 = time.time()\\nprint(end1 - start1)'"
      ]
     },
     "execution_count": 41,
     "metadata": {},
     "output_type": "execute_result"
    }
   ],
   "source": [
    "'''list1 = list(range(10000))\n",
    "list2 = list(range(10000))\n",
    "arr1 = np.array(list1)\n",
    "arr2 = np.array(list2)\n",
    "start1 = time.time()\n",
    "result =  arr1 + arr2\n",
    "end1 = time.time()\n",
    "print(end1 - start1)'''"
   ]
  },
  {
   "cell_type": "code",
   "execution_count": 45,
   "id": "c77bac66-b356-4fc1-a5ed-2f5e6878287a",
   "metadata": {},
   "outputs": [
    {
     "name": "stdout",
     "output_type": "stream",
     "text": [
      "80000000\n",
      "int64\n"
     ]
    }
   ],
   "source": [
    "list1 = list(range(10000000))\n",
    "list2 = list(range(10000))\n",
    "arr1 = np.array(list1)\n",
    "arr2 = np.array(list2)\n",
    "print(arr1.nbytes)\n",
    "print(arr.dtype)"
   ]
  },
  {
   "cell_type": "code",
   "execution_count": null,
   "id": "17ec53c1-2bfa-44f1-a2d2-e7e6dc7ef305",
   "metadata": {},
   "outputs": [],
   "source": []
  }
 ],
 "metadata": {
  "kernelspec": {
   "display_name": "Python [conda env:atulshahi]",
   "language": "python",
   "name": "conda-env-atulshahi-py"
  },
  "language_info": {
   "codemirror_mode": {
    "name": "ipython",
    "version": 3
   },
   "file_extension": ".py",
   "mimetype": "text/x-python",
   "name": "python",
   "nbconvert_exporter": "python",
   "pygments_lexer": "ipython3",
   "version": "3.13.5"
  }
 },
 "nbformat": 4,
 "nbformat_minor": 5
}

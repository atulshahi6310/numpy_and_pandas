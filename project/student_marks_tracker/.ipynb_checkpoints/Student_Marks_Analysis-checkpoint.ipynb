{
 "cells": [
  {
   "cell_type": "markdown",
   "id": "485ec36b-81b8-4471-a698-4af8421f69e0",
   "metadata": {},
   "source": [
    "Perfect, Atul 🚀 Let’s move to **Day 3 of 15 | Python Data Analysis Challenge**\n",
    "\n",
    "---\n",
    "\n",
    "# 📝 Day 3 Problem: Student Marks Analysis 🎓\n",
    "\n",
    "### **Scenario**\n",
    "\n",
    "A school wants to analyze student performance in 5 subjects: **Math, Science, English, History, and Computer**.\n",
    "\n",
    "You’ll analyze marks of 10 students and extract insights.\n",
    "\n",
    "---\n",
    "\n",
    "### **Step 1 – Dataset (Marks of 10 Students)**\n",
    "\n",
    "| Student | Math | Science | English | History | Computer |\n",
    "| ------- | ---- | ------- | ------- | ------- | -------- |\n",
    "| A       | 78   | 85      | 74      | 80      | 90       |\n",
    "| B       | 65   | 70      | 68      | 72      | 75       |\n",
    "| C       | 90   | 88      | 95      | 92      | 96       |\n",
    "| D       | 45   | 55      | 50      | 60      | 65       |\n",
    "| E       | 82   | 79      | 85      | 80      | 88       |\n",
    "| F       | 60   | 62      | 58      | 65      | 70       |\n",
    "| G       | 72   | 75      | 70      | 78      | 82       |\n",
    "| H       | 88   | 92      | 90      | 86      | 94       |\n",
    "| I       | 54   | 58      | 60      | 62      | 65       |\n",
    "| J       | 95   | 94      | 92      | 96      | 98       |\n",
    "\n",
    "---\n",
    "\n",
    "### **Step 2 – Tasks**\n",
    "\n",
    "1. Load dataset into **Pandas DataFrame**.\n",
    "2. Calculate:\n",
    "\n",
    "   * Average marks per subject.\n",
    "   * Highest & lowest scorer in each subject.\n",
    "   * Student with overall highest average.\n",
    "   * Pass/Fail list (assume pass = 40+ in all subjects).\n",
    "3. Use **NumPy** for mean, max, min operations.\n",
    "4. Visualizations:\n",
    "\n",
    "   * **Bar chart** → Average marks per subject.\n",
    "   * **Histogram** → Distribution of marks in one subject.\n",
    "   * **Heatmap** (Seaborn) → Correlation between subjects.\n",
    "\n",
    "---\n",
    "\n",
    "### **Step 3 – Expected Outcome**\n",
    "\n",
    "* Summary of subject averages & toppers.\n",
    "* Identification of overall topper.\n",
    "* Clear pass/fail classification.\n",
    "* Charts for better understanding.\n",
    "\n"
   ]
  },
  {
   "cell_type": "code",
   "execution_count": 37,
   "id": "d0b8fac8-d5a2-494e-9ab0-36b47a4a0c74",
   "metadata": {},
   "outputs": [],
   "source": [
    "import pandas as pd\n",
    "import numpy as np\n",
    "import matplotlib.pyplot as plt\n",
    "import seaborn as sns"
   ]
  },
  {
   "cell_type": "code",
   "execution_count": 3,
   "id": "c3907d26-a0df-47ae-9e8e-928bad406d92",
   "metadata": {},
   "outputs": [],
   "source": [
    "df = pd.read_csv(\"student_marks.csv\")"
   ]
  },
  {
   "cell_type": "code",
   "execution_count": 5,
   "id": "3080eab8-366c-4fa7-89fd-c1dbbad54175",
   "metadata": {},
   "outputs": [
    {
     "data": {
      "text/html": [
       "<div>\n",
       "<style scoped>\n",
       "    .dataframe tbody tr th:only-of-type {\n",
       "        vertical-align: middle;\n",
       "    }\n",
       "\n",
       "    .dataframe tbody tr th {\n",
       "        vertical-align: top;\n",
       "    }\n",
       "\n",
       "    .dataframe thead th {\n",
       "        text-align: right;\n",
       "    }\n",
       "</style>\n",
       "<table border=\"1\" class=\"dataframe\">\n",
       "  <thead>\n",
       "    <tr style=\"text-align: right;\">\n",
       "      <th></th>\n",
       "      <th>Student</th>\n",
       "      <th>Math</th>\n",
       "      <th>Science</th>\n",
       "      <th>English</th>\n",
       "      <th>History</th>\n",
       "      <th>Computer</th>\n",
       "    </tr>\n",
       "  </thead>\n",
       "  <tbody>\n",
       "    <tr>\n",
       "      <th>0</th>\n",
       "      <td>A</td>\n",
       "      <td>78</td>\n",
       "      <td>85</td>\n",
       "      <td>74</td>\n",
       "      <td>80</td>\n",
       "      <td>90</td>\n",
       "    </tr>\n",
       "    <tr>\n",
       "      <th>1</th>\n",
       "      <td>B</td>\n",
       "      <td>65</td>\n",
       "      <td>70</td>\n",
       "      <td>68</td>\n",
       "      <td>72</td>\n",
       "      <td>75</td>\n",
       "    </tr>\n",
       "    <tr>\n",
       "      <th>2</th>\n",
       "      <td>C</td>\n",
       "      <td>90</td>\n",
       "      <td>88</td>\n",
       "      <td>95</td>\n",
       "      <td>92</td>\n",
       "      <td>96</td>\n",
       "    </tr>\n",
       "    <tr>\n",
       "      <th>3</th>\n",
       "      <td>D</td>\n",
       "      <td>45</td>\n",
       "      <td>55</td>\n",
       "      <td>50</td>\n",
       "      <td>60</td>\n",
       "      <td>65</td>\n",
       "    </tr>\n",
       "    <tr>\n",
       "      <th>4</th>\n",
       "      <td>E</td>\n",
       "      <td>82</td>\n",
       "      <td>79</td>\n",
       "      <td>85</td>\n",
       "      <td>80</td>\n",
       "      <td>88</td>\n",
       "    </tr>\n",
       "  </tbody>\n",
       "</table>\n",
       "</div>"
      ],
      "text/plain": [
       "  Student  Math  Science  English  History  Computer\n",
       "0       A    78       85       74       80        90\n",
       "1       B    65       70       68       72        75\n",
       "2       C    90       88       95       92        96\n",
       "3       D    45       55       50       60        65\n",
       "4       E    82       79       85       80        88"
      ]
     },
     "execution_count": 5,
     "metadata": {},
     "output_type": "execute_result"
    }
   ],
   "source": [
    "df.head()\n"
   ]
  },
  {
   "cell_type": "code",
   "execution_count": 17,
   "id": "7120d5fd-2d50-4198-8381-69314b084741",
   "metadata": {},
   "outputs": [],
   "source": [
    "avrageMaths = np.average(df[\"Math\"])\n",
    "avrageScience = np.average(df[\"Science\"])\n",
    "avrageEnglish =np.average(df[\"English\"])\n",
    "avrageHistory = np.average(df[\"History\"])\n",
    "avrageComputer = np.average(df[\"Computer\"])\n"
   ]
  },
  {
   "cell_type": "code",
   "execution_count": 23,
   "id": "b3eb6a8c-65da-49dd-8bfa-696fe6896a35",
   "metadata": {},
   "outputs": [
    {
     "name": "stdout",
     "output_type": "stream",
     "text": [
      "avrage maeks of maths is : 72.9\n",
      "avrage makrks of science 75.8\n",
      "avrage makrks of english: 82.3\n",
      "avrahe makrks of hisstory is  74.2\n",
      "avrage makrs of computer is  77.1\n"
     ]
    }
   ],
   "source": [
    "print(\"avrage maeks of maths is :\", avrageMaths)\n",
    "print(\"avrage makrks of science\",avrageScience)\n",
    "print(\"avrage makrks of english:\" ,avrageComputer)\n",
    "print(\"avrahe makrks of hisstory is \" ,avrageEnglish)\n",
    "print(\"avrage makrs of computer is \" ,avrageHistory)"
   ]
  },
  {
   "cell_type": "code",
   "execution_count": 24,
   "id": "1c4dbe8a-76ab-480c-92b0-5be464394c8f",
   "metadata": {},
   "outputs": [],
   "source": [
    "subject = [\"Math\",\"Science\",\"English\",\"History\", \"Computer\"]"
   ]
  },
  {
   "cell_type": "code",
   "execution_count": 26,
   "id": "eea10d70-f33a-4ab3-a0a6-d106f510cd69",
   "metadata": {},
   "outputs": [],
   "source": [
    "higest_marks = np.max(df[subject])"
   ]
  },
  {
   "cell_type": "code",
   "execution_count": 27,
   "id": "ab0cf08f-d116-4fc5-8e09-a3c4d4bcbb04",
   "metadata": {},
   "outputs": [],
   "source": [
    "heigst_marks_per_subject = df[subject].max()"
   ]
  },
  {
   "cell_type": "code",
   "execution_count": 28,
   "id": "3948ae38-898b-4c5a-aaaf-495298912bb5",
   "metadata": {},
   "outputs": [
    {
     "data": {
      "text/plain": [
       "Math        95\n",
       "Science     94\n",
       "English     95\n",
       "History     96\n",
       "Computer    98\n",
       "dtype: int64"
      ]
     },
     "execution_count": 28,
     "metadata": {},
     "output_type": "execute_result"
    }
   ],
   "source": [
    "heigst_marks_per_subject"
   ]
  },
  {
   "cell_type": "code",
   "execution_count": 29,
   "id": "41f69fca-d80c-40de-8997-e701e8bde50d",
   "metadata": {},
   "outputs": [],
   "source": [
    "lowest_marks =  np.min(df[subject])"
   ]
  },
  {
   "cell_type": "code",
   "execution_count": 30,
   "id": "0a090cd0-5000-4729-a3dc-d07ea3ab1464",
   "metadata": {},
   "outputs": [],
   "source": [
    "lowest_marks_per_subject = df[subject].min()"
   ]
  },
  {
   "cell_type": "code",
   "execution_count": 31,
   "id": "a03854c1-fc30-4ae5-a869-63255e23f40d",
   "metadata": {},
   "outputs": [
    {
     "data": {
      "text/plain": [
       "Math        45\n",
       "Science     55\n",
       "English     50\n",
       "History     60\n",
       "Computer    65\n",
       "dtype: int64"
      ]
     },
     "execution_count": 31,
     "metadata": {},
     "output_type": "execute_result"
    }
   ],
   "source": [
    "lowest_marks_per_subject"
   ]
  },
  {
   "cell_type": "code",
   "execution_count": 32,
   "id": "6a81e7b9-2335-40e9-97b7-23c068641afa",
   "metadata": {},
   "outputs": [],
   "source": [
    "df[\"Average\"] = df.drop(columns=[\"Student\"]).mean(axis=1)\n",
    "overall_topper = df.loc[df[\"Average\"].idxmax(), \"Student\"]"
   ]
  },
  {
   "cell_type": "code",
   "execution_count": 33,
   "id": "3e9bb93d-a3c9-4127-b5be-7dc88cc8317b",
   "metadata": {},
   "outputs": [
    {
     "data": {
      "text/plain": [
       "'J'"
      ]
     },
     "execution_count": 33,
     "metadata": {},
     "output_type": "execute_result"
    }
   ],
   "source": [
    "overall_topper"
   ]
  },
  {
   "cell_type": "code",
   "execution_count": 34,
   "id": "bbe3363e-4a2e-42b4-bb79-fbd1444ba181",
   "metadata": {},
   "outputs": [],
   "source": [
    "df[\"Result\"] = np.where(df.drop(columns=[\"Student\", \"Average\"]).ge(40).all(axis=1), \"Pass\", \"Fail\")"
   ]
  },
  {
   "cell_type": "code",
   "execution_count": 35,
   "id": "473edb64-1ce1-4dab-bf6f-ced2a60af91e",
   "metadata": {},
   "outputs": [
    {
     "data": {
      "text/html": [
       "<div>\n",
       "<style scoped>\n",
       "    .dataframe tbody tr th:only-of-type {\n",
       "        vertical-align: middle;\n",
       "    }\n",
       "\n",
       "    .dataframe tbody tr th {\n",
       "        vertical-align: top;\n",
       "    }\n",
       "\n",
       "    .dataframe thead th {\n",
       "        text-align: right;\n",
       "    }\n",
       "</style>\n",
       "<table border=\"1\" class=\"dataframe\">\n",
       "  <thead>\n",
       "    <tr style=\"text-align: right;\">\n",
       "      <th></th>\n",
       "      <th>Student</th>\n",
       "      <th>Math</th>\n",
       "      <th>Science</th>\n",
       "      <th>English</th>\n",
       "      <th>History</th>\n",
       "      <th>Computer</th>\n",
       "      <th>Average</th>\n",
       "      <th>Result</th>\n",
       "    </tr>\n",
       "  </thead>\n",
       "  <tbody>\n",
       "    <tr>\n",
       "      <th>0</th>\n",
       "      <td>A</td>\n",
       "      <td>78</td>\n",
       "      <td>85</td>\n",
       "      <td>74</td>\n",
       "      <td>80</td>\n",
       "      <td>90</td>\n",
       "      <td>81.4</td>\n",
       "      <td>Pass</td>\n",
       "    </tr>\n",
       "    <tr>\n",
       "      <th>1</th>\n",
       "      <td>B</td>\n",
       "      <td>65</td>\n",
       "      <td>70</td>\n",
       "      <td>68</td>\n",
       "      <td>72</td>\n",
       "      <td>75</td>\n",
       "      <td>70.0</td>\n",
       "      <td>Pass</td>\n",
       "    </tr>\n",
       "    <tr>\n",
       "      <th>2</th>\n",
       "      <td>C</td>\n",
       "      <td>90</td>\n",
       "      <td>88</td>\n",
       "      <td>95</td>\n",
       "      <td>92</td>\n",
       "      <td>96</td>\n",
       "      <td>92.2</td>\n",
       "      <td>Pass</td>\n",
       "    </tr>\n",
       "    <tr>\n",
       "      <th>3</th>\n",
       "      <td>D</td>\n",
       "      <td>45</td>\n",
       "      <td>55</td>\n",
       "      <td>50</td>\n",
       "      <td>60</td>\n",
       "      <td>65</td>\n",
       "      <td>55.0</td>\n",
       "      <td>Pass</td>\n",
       "    </tr>\n",
       "    <tr>\n",
       "      <th>4</th>\n",
       "      <td>E</td>\n",
       "      <td>82</td>\n",
       "      <td>79</td>\n",
       "      <td>85</td>\n",
       "      <td>80</td>\n",
       "      <td>88</td>\n",
       "      <td>82.8</td>\n",
       "      <td>Pass</td>\n",
       "    </tr>\n",
       "    <tr>\n",
       "      <th>5</th>\n",
       "      <td>F</td>\n",
       "      <td>60</td>\n",
       "      <td>62</td>\n",
       "      <td>58</td>\n",
       "      <td>65</td>\n",
       "      <td>70</td>\n",
       "      <td>63.0</td>\n",
       "      <td>Pass</td>\n",
       "    </tr>\n",
       "    <tr>\n",
       "      <th>6</th>\n",
       "      <td>G</td>\n",
       "      <td>72</td>\n",
       "      <td>75</td>\n",
       "      <td>70</td>\n",
       "      <td>78</td>\n",
       "      <td>82</td>\n",
       "      <td>75.4</td>\n",
       "      <td>Pass</td>\n",
       "    </tr>\n",
       "    <tr>\n",
       "      <th>7</th>\n",
       "      <td>H</td>\n",
       "      <td>88</td>\n",
       "      <td>92</td>\n",
       "      <td>90</td>\n",
       "      <td>86</td>\n",
       "      <td>94</td>\n",
       "      <td>90.0</td>\n",
       "      <td>Pass</td>\n",
       "    </tr>\n",
       "    <tr>\n",
       "      <th>8</th>\n",
       "      <td>I</td>\n",
       "      <td>54</td>\n",
       "      <td>58</td>\n",
       "      <td>60</td>\n",
       "      <td>62</td>\n",
       "      <td>65</td>\n",
       "      <td>59.8</td>\n",
       "      <td>Pass</td>\n",
       "    </tr>\n",
       "    <tr>\n",
       "      <th>9</th>\n",
       "      <td>J</td>\n",
       "      <td>95</td>\n",
       "      <td>94</td>\n",
       "      <td>92</td>\n",
       "      <td>96</td>\n",
       "      <td>98</td>\n",
       "      <td>95.0</td>\n",
       "      <td>Pass</td>\n",
       "    </tr>\n",
       "  </tbody>\n",
       "</table>\n",
       "</div>"
      ],
      "text/plain": [
       "  Student  Math  Science  English  History  Computer  Average Result\n",
       "0       A    78       85       74       80        90     81.4   Pass\n",
       "1       B    65       70       68       72        75     70.0   Pass\n",
       "2       C    90       88       95       92        96     92.2   Pass\n",
       "3       D    45       55       50       60        65     55.0   Pass\n",
       "4       E    82       79       85       80        88     82.8   Pass\n",
       "5       F    60       62       58       65        70     63.0   Pass\n",
       "6       G    72       75       70       78        82     75.4   Pass\n",
       "7       H    88       92       90       86        94     90.0   Pass\n",
       "8       I    54       58       60       62        65     59.8   Pass\n",
       "9       J    95       94       92       96        98     95.0   Pass"
      ]
     },
     "execution_count": 35,
     "metadata": {},
     "output_type": "execute_result"
    }
   ],
   "source": [
    "df"
   ]
  },
  {
   "cell_type": "code",
   "execution_count": 40,
   "id": "bfa6b6c3-ad32-46a1-87c5-d7c45e98609d",
   "metadata": {},
   "outputs": [
    {
     "data": {
      "image/png": "[encoded data removed]",
      "text/plain": [
       "<Figure size 800x500 with 1 Axes>"
      ]
     },
     "metadata": {},
     "output_type": "display_data"
    },
    {
     "data": {
      "text/plain": [
       "<Figure size 640x480 with 0 Axes>"
      ]
     },
     "metadata": {},
     "output_type": "display_data"
    }
   ],
   "source": [
    "plt.figure(figsize=(8,5))\n",
    "plt.hist(df[\"Math\"], bins=5, edgecolor=\"black\")\n",
    "plt.title(\"Distribution of Math Marks\")\n",
    "plt.xlabel(\"Marks\")\n",
    "plt.ylabel(\"Number of Students\")\n",
    "plt.show()\n",
    "\n",
    "plt.savefig(\"mathsMarks.png\")\n"
   ]
  },
  {
   "cell_type": "code",
   "execution_count": 39,
   "id": "caa0888f-9dac-43a1-bad7-7ac99941ed6b",
   "metadata": {},
   "outputs": [
    {
     "data": {
      "image/png": "[encoded data removed]",
      "text/plain": [
       "<Figure size 800x600 with 2 Axes>"
      ]
     },
     "metadata": {},
     "output_type": "display_data"
    },
    {
     "data": {
      "text/plain": [
       "<Figure size 640x480 with 0 Axes>"
      ]
     },
     "metadata": {},
     "output_type": "display_data"
    }
   ],
   "source": [
    "plt.figure(figsize=(8,6))\n",
    "sns.heatmap(df.drop(columns=[\"Student\", \"Average\", \"Result\"]).corr(), annot=True, cmap=\"coolwarm\")\n",
    "plt.title(\"Correlation Between Subjects\")\n",
    "plt.show()\n",
    "plt.savefig(\"heatmap.png\")"
   ]
  },
  {
   "cell_type": "code",
   "execution_count": null,
   "id": "44c469ae-dc9e-4ced-9cfb-e2bde7a565f3",
   "metadata": {},
   "outputs": [],
   "source": []
  }
 ],
 "metadata": {
  "kernelspec": {
   "display_name": "Python 3 (ipykernel)",
   "language": "python",
   "name": "python3"
  },
  "language_info": {
   "codemirror_mode": {
    "name": "ipython",
    "version": 3
   },
   "file_extension": ".py",
   "mimetype": "text/x-python",
   "name": "python",
   "nbconvert_exporter": "python",
   "pygments_lexer": "ipython3",
   "version": "3.13.5"
  }
 },
 "nbformat": 4,
 "nbformat_minor": 5
}

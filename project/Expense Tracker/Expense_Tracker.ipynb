{
 "cells": [
  {
   "cell_type": "markdown",
   "id": "6575faa1-1bcd-4d75-947a-377a9045d394",
   "metadata": {},
   "source": [
    "\n",
    "## 📝 Day 1 Problem: Expense Tracker\n",
    "\n",
    "### **Scenario**\n",
    "\n",
    "#### You want to track your daily expenses for a week. You spend money on categories like **Food, Travel, Entertainment, Shopping, and Others**.\n",
    "\n",
    " We’ll create a small dataset (you can expand it later with real data).\n",
    "\n",
    "---\n",
    "\n",
    "### **Step 1 – Dataset (Expenses for 7 days)**\n",
    "\n",
    "| Day | Food | Travel | Entertainment | Shopping | Others |\n",
    "| --- | ---- | ------ | ------------- | -------- | ------ |\n",
    "| Mon | 250  | 100    | 150           | 200      | 50     |\n",
    "| Tue | 300  | 80     | 100           | 400      | 20     |\n",
    "| Wed | 200  | 120    | 0             | 100      | 70     |\n",
    "| Thu | 350  | 150    | 200           | 250      | 60     |\n",
    "| Fri | 400  | 200    | 300           | 500      | 100    |\n",
    "| Sat | 500  | 180    | 400           | 600      | 90     |\n",
    "| Sun | 450  | 220    | 350           | 300      | 40     |\n",
    "\n",
    "---\n",
    "\n",
    "### **Step 2 – Tasks**\n",
    "\n",
    "1. Load this data into **Pandas DataFrame**.\n",
    "2. Calculate:\n",
    "\n",
    "   * Total expense per day.\n",
    "   * Total expense per category.\n",
    "   * Average daily spending.\n",
    "   * Day with maximum spending.\n",
    "3. Use **NumPy** for calculations where possible (sum, mean, max).\n",
    "4. Visualizations:\n",
    "\n",
    "   * **Bar chart** of daily expenses (Matplotlib).\n",
    "   * **Pie chart** of expenses by category (Seaborn/Matplotlib).\n",
    "\n",
    "---\n",
    "\n",
    "### **Step 3 – Expected Outcome**\n",
    "\n",
    "* A summary table with daily totals and category totals.\n",
    "* A bar chart showing how much you spent each day.\n",
    "* A pie chart showing percentage spending in each category.\n",
    "\n",
    "---\n",
    "\n",
    "👉 Do you want me to **write the full starter Python code** for Day 1 so you can directly run and practice, or should I just give you the problem statement and let you try coding it yourself first?\n"
   ]
  },
  {
   "cell_type": "code",
   "execution_count": 49,
   "id": "e271b95e-c378-4be3-b4d1-129b5ba820cf",
   "metadata": {},
   "outputs": [],
   "source": [
    "import pandas as pd"
   ]
  },
  {
   "cell_type": "code",
   "execution_count": 50,
   "id": "6dfc7966-e8f4-44f9-8d7d-cd15e6a9a992",
   "metadata": {},
   "outputs": [],
   "source": [
    "import numpy as np"
   ]
  },
  {
   "cell_type": "code",
   "execution_count": 51,
   "id": "cb2632dc-a88a-4e0c-bb1d-3039da206102",
   "metadata": {},
   "outputs": [],
   "source": [
    "df = pd.read_excel(\"Book1.xlsx\")"
   ]
  },
  {
   "cell_type": "code",
   "execution_count": 52,
   "id": "0b7ded65-94f0-4ad2-a724-54c2e2bf1a03",
   "metadata": {},
   "outputs": [
    {
     "data": {
      "text/html": [
       "<div>\n",
       "<style scoped>\n",
       "    .dataframe tbody tr th:only-of-type {\n",
       "        vertical-align: middle;\n",
       "    }\n",
       "\n",
       "    .dataframe tbody tr th {\n",
       "        vertical-align: top;\n",
       "    }\n",
       "\n",
       "    .dataframe thead th {\n",
       "        text-align: right;\n",
       "    }\n",
       "</style>\n",
       "<table border=\"1\" class=\"dataframe\">\n",
       "  <thead>\n",
       "    <tr style=\"text-align: right;\">\n",
       "      <th></th>\n",
       "      <th>Day</th>\n",
       "      <th>Food</th>\n",
       "      <th>Travel</th>\n",
       "      <th>Entertainment</th>\n",
       "      <th>Shopping</th>\n",
       "      <th>Others</th>\n",
       "    </tr>\n",
       "  </thead>\n",
       "  <tbody>\n",
       "    <tr>\n",
       "      <th>0</th>\n",
       "      <td>Mon</td>\n",
       "      <td>250</td>\n",
       "      <td>100</td>\n",
       "      <td>150</td>\n",
       "      <td>200</td>\n",
       "      <td>50</td>\n",
       "    </tr>\n",
       "    <tr>\n",
       "      <th>1</th>\n",
       "      <td>Tue</td>\n",
       "      <td>300</td>\n",
       "      <td>80</td>\n",
       "      <td>100</td>\n",
       "      <td>400</td>\n",
       "      <td>20</td>\n",
       "    </tr>\n",
       "    <tr>\n",
       "      <th>2</th>\n",
       "      <td>Wed</td>\n",
       "      <td>200</td>\n",
       "      <td>120</td>\n",
       "      <td>0</td>\n",
       "      <td>100</td>\n",
       "      <td>70</td>\n",
       "    </tr>\n",
       "    <tr>\n",
       "      <th>3</th>\n",
       "      <td>Thu</td>\n",
       "      <td>350</td>\n",
       "      <td>150</td>\n",
       "      <td>200</td>\n",
       "      <td>250</td>\n",
       "      <td>60</td>\n",
       "    </tr>\n",
       "    <tr>\n",
       "      <th>4</th>\n",
       "      <td>Fri</td>\n",
       "      <td>400</td>\n",
       "      <td>200</td>\n",
       "      <td>300</td>\n",
       "      <td>500</td>\n",
       "      <td>100</td>\n",
       "    </tr>\n",
       "    <tr>\n",
       "      <th>5</th>\n",
       "      <td>Sat</td>\n",
       "      <td>500</td>\n",
       "      <td>180</td>\n",
       "      <td>400</td>\n",
       "      <td>600</td>\n",
       "      <td>90</td>\n",
       "    </tr>\n",
       "    <tr>\n",
       "      <th>6</th>\n",
       "      <td>Sun</td>\n",
       "      <td>450</td>\n",
       "      <td>220</td>\n",
       "      <td>350</td>\n",
       "      <td>300</td>\n",
       "      <td>40</td>\n",
       "    </tr>\n",
       "  </tbody>\n",
       "</table>\n",
       "</div>"
      ],
      "text/plain": [
       "   Day  Food  Travel  Entertainment  Shopping  Others\n",
       "0  Mon   250     100            150       200      50\n",
       "1  Tue   300      80            100       400      20\n",
       "2  Wed   200     120              0       100      70\n",
       "3  Thu   350     150            200       250      60\n",
       "4  Fri   400     200            300       500     100\n",
       "5  Sat   500     180            400       600      90\n",
       "6  Sun   450     220            350       300      40"
      ]
     },
     "execution_count": 52,
     "metadata": {},
     "output_type": "execute_result"
    }
   ],
   "source": [
    "df"
   ]
  },
  {
   "cell_type": "code",
   "execution_count": 53,
   "id": "3e3d88d2-2bdf-439c-833c-7c266e55c480",
   "metadata": {},
   "outputs": [],
   "source": [
    "df[\"total\"] = df[[\"Food\",\"Travel\",\"Entertainment\",\"Shopping\",\"Others\"]].sum(axis=1)"
   ]
  },
  {
   "cell_type": "markdown",
   "id": "b5313f06-6510-48b2-aaef-7fb418f4c9a7",
   "metadata": {},
   "source": [
    "## Total expense per day."
   ]
  },
  {
   "cell_type": "code",
   "execution_count": 54,
   "id": "dca6ca4b-44b8-4c81-acf6-2cd37e6ea908",
   "metadata": {},
   "outputs": [
    {
     "data": {
      "text/html": [
       "<div>\n",
       "<style scoped>\n",
       "    .dataframe tbody tr th:only-of-type {\n",
       "        vertical-align: middle;\n",
       "    }\n",
       "\n",
       "    .dataframe tbody tr th {\n",
       "        vertical-align: top;\n",
       "    }\n",
       "\n",
       "    .dataframe thead th {\n",
       "        text-align: right;\n",
       "    }\n",
       "</style>\n",
       "<table border=\"1\" class=\"dataframe\">\n",
       "  <thead>\n",
       "    <tr style=\"text-align: right;\">\n",
       "      <th></th>\n",
       "      <th>Day</th>\n",
       "      <th>Food</th>\n",
       "      <th>Travel</th>\n",
       "      <th>Entertainment</th>\n",
       "      <th>Shopping</th>\n",
       "      <th>Others</th>\n",
       "      <th>total</th>\n",
       "    </tr>\n",
       "  </thead>\n",
       "  <tbody>\n",
       "    <tr>\n",
       "      <th>0</th>\n",
       "      <td>Mon</td>\n",
       "      <td>250</td>\n",
       "      <td>100</td>\n",
       "      <td>150</td>\n",
       "      <td>200</td>\n",
       "      <td>50</td>\n",
       "      <td>750</td>\n",
       "    </tr>\n",
       "    <tr>\n",
       "      <th>1</th>\n",
       "      <td>Tue</td>\n",
       "      <td>300</td>\n",
       "      <td>80</td>\n",
       "      <td>100</td>\n",
       "      <td>400</td>\n",
       "      <td>20</td>\n",
       "      <td>900</td>\n",
       "    </tr>\n",
       "    <tr>\n",
       "      <th>2</th>\n",
       "      <td>Wed</td>\n",
       "      <td>200</td>\n",
       "      <td>120</td>\n",
       "      <td>0</td>\n",
       "      <td>100</td>\n",
       "      <td>70</td>\n",
       "      <td>490</td>\n",
       "    </tr>\n",
       "    <tr>\n",
       "      <th>3</th>\n",
       "      <td>Thu</td>\n",
       "      <td>350</td>\n",
       "      <td>150</td>\n",
       "      <td>200</td>\n",
       "      <td>250</td>\n",
       "      <td>60</td>\n",
       "      <td>1010</td>\n",
       "    </tr>\n",
       "    <tr>\n",
       "      <th>4</th>\n",
       "      <td>Fri</td>\n",
       "      <td>400</td>\n",
       "      <td>200</td>\n",
       "      <td>300</td>\n",
       "      <td>500</td>\n",
       "      <td>100</td>\n",
       "      <td>1500</td>\n",
       "    </tr>\n",
       "    <tr>\n",
       "      <th>5</th>\n",
       "      <td>Sat</td>\n",
       "      <td>500</td>\n",
       "      <td>180</td>\n",
       "      <td>400</td>\n",
       "      <td>600</td>\n",
       "      <td>90</td>\n",
       "      <td>1770</td>\n",
       "    </tr>\n",
       "    <tr>\n",
       "      <th>6</th>\n",
       "      <td>Sun</td>\n",
       "      <td>450</td>\n",
       "      <td>220</td>\n",
       "      <td>350</td>\n",
       "      <td>300</td>\n",
       "      <td>40</td>\n",
       "      <td>1360</td>\n",
       "    </tr>\n",
       "  </tbody>\n",
       "</table>\n",
       "</div>"
      ],
      "text/plain": [
       "   Day  Food  Travel  Entertainment  Shopping  Others  total\n",
       "0  Mon   250     100            150       200      50    750\n",
       "1  Tue   300      80            100       400      20    900\n",
       "2  Wed   200     120              0       100      70    490\n",
       "3  Thu   350     150            200       250      60   1010\n",
       "4  Fri   400     200            300       500     100   1500\n",
       "5  Sat   500     180            400       600      90   1770\n",
       "6  Sun   450     220            350       300      40   1360"
      ]
     },
     "execution_count": 54,
     "metadata": {},
     "output_type": "execute_result"
    }
   ],
   "source": [
    "df"
   ]
  },
  {
   "cell_type": "code",
   "execution_count": 55,
   "id": "ea575cee-b429-4c29-8724-67a4ce5bdb26",
   "metadata": {},
   "outputs": [],
   "source": [
    "total_expences_per_day = df[\"total\"]"
   ]
  },
  {
   "cell_type": "code",
   "execution_count": 56,
   "id": "80309f96-c93b-406b-9635-c79f9be6be9a",
   "metadata": {},
   "outputs": [
    {
     "name": "stdout",
     "output_type": "stream",
     "text": [
      "Total expense per day 0     750\n",
      "1     900\n",
      "2     490\n",
      "3    1010\n",
      "4    1500\n",
      "5    1770\n",
      "6    1360\n",
      "Name: total, dtype: int64\n"
     ]
    }
   ],
   "source": [
    "print(\"Total expense per day\", total_expences_per_day)"
   ]
  },
  {
   "cell_type": "markdown",
   "id": "39a8e501-fe8a-4a62-b935-47ea39abf354",
   "metadata": {},
   "source": [
    "## Total expences per category"
   ]
  },
  {
   "cell_type": "code",
   "execution_count": 57,
   "id": "edfacd4d-f6ed-4c64-bc0a-b19e5f4837ea",
   "metadata": {},
   "outputs": [],
   "source": [
    "category_wise_total= df[[\"Food\",\"Travel\",\"Entertainment\",\"Shopping\",\"Others\"]].sum(axis=0)"
   ]
  },
  {
   "cell_type": "code",
   "execution_count": 58,
   "id": "6e748a55-e55e-4310-8f03-fe8b350c1f41",
   "metadata": {},
   "outputs": [
    {
     "data": {
      "text/plain": [
       "Food             2450\n",
       "Travel           1050\n",
       "Entertainment    1500\n",
       "Shopping         2350\n",
       "Others            430\n",
       "dtype: int64"
      ]
     },
     "execution_count": 58,
     "metadata": {},
     "output_type": "execute_result"
    }
   ],
   "source": [
    "category_wise_total"
   ]
  },
  {
   "cell_type": "markdown",
   "id": "91ffd3c3-f5f2-44b3-b3c6-093defbf500c",
   "metadata": {},
   "source": [
    "## Average daily spending."
   ]
  },
  {
   "cell_type": "code",
   "execution_count": 59,
   "id": "9b630f4b-22ca-4122-bc29-a08c769a4dfd",
   "metadata": {},
   "outputs": [],
   "source": [
    "avg_daily_spending = np.mean(df[\"total\"])"
   ]
  },
  {
   "cell_type": "code",
   "execution_count": 60,
   "id": "44bd3fc7-46c2-42de-aaf4-74e93ac23374",
   "metadata": {},
   "outputs": [
    {
     "data": {
      "text/plain": [
       "np.float64(1111.4285714285713)"
      ]
     },
     "execution_count": 60,
     "metadata": {},
     "output_type": "execute_result"
    }
   ],
   "source": [
    "avrage_daily_is"
   ]
  },
  {
   "cell_type": "markdown",
   "id": "1c8bb3cf-7ae7-4474-88e2-d80a7f20421d",
   "metadata": {},
   "source": [
    "## Day with maximum spending."
   ]
  },
  {
   "cell_type": "code",
   "execution_count": 61,
   "id": "7b8c6693-524d-41a3-8808-4a30959ef7c4",
   "metadata": {},
   "outputs": [
    {
     "name": "stdout",
     "output_type": "stream",
     "text": [
      "the day with max index is  Sat : 1770\n"
     ]
    },
    {
     "data": {
      "text/html": [
       "<div>\n",
       "<style scoped>\n",
       "    .dataframe tbody tr th:only-of-type {\n",
       "        vertical-align: middle;\n",
       "    }\n",
       "\n",
       "    .dataframe tbody tr th {\n",
       "        vertical-align: top;\n",
       "    }\n",
       "\n",
       "    .dataframe thead th {\n",
       "        text-align: right;\n",
       "    }\n",
       "</style>\n",
       "<table border=\"1\" class=\"dataframe\">\n",
       "  <thead>\n",
       "    <tr style=\"text-align: right;\">\n",
       "      <th></th>\n",
       "      <th>Day</th>\n",
       "      <th>Food</th>\n",
       "      <th>Travel</th>\n",
       "      <th>Entertainment</th>\n",
       "      <th>Shopping</th>\n",
       "      <th>Others</th>\n",
       "      <th>total</th>\n",
       "    </tr>\n",
       "  </thead>\n",
       "  <tbody>\n",
       "    <tr>\n",
       "      <th>0</th>\n",
       "      <td>Mon</td>\n",
       "      <td>250</td>\n",
       "      <td>100</td>\n",
       "      <td>150</td>\n",
       "      <td>200</td>\n",
       "      <td>50</td>\n",
       "      <td>750</td>\n",
       "    </tr>\n",
       "    <tr>\n",
       "      <th>1</th>\n",
       "      <td>Tue</td>\n",
       "      <td>300</td>\n",
       "      <td>80</td>\n",
       "      <td>100</td>\n",
       "      <td>400</td>\n",
       "      <td>20</td>\n",
       "      <td>900</td>\n",
       "    </tr>\n",
       "    <tr>\n",
       "      <th>2</th>\n",
       "      <td>Wed</td>\n",
       "      <td>200</td>\n",
       "      <td>120</td>\n",
       "      <td>0</td>\n",
       "      <td>100</td>\n",
       "      <td>70</td>\n",
       "      <td>490</td>\n",
       "    </tr>\n",
       "    <tr>\n",
       "      <th>3</th>\n",
       "      <td>Thu</td>\n",
       "      <td>350</td>\n",
       "      <td>150</td>\n",
       "      <td>200</td>\n",
       "      <td>250</td>\n",
       "      <td>60</td>\n",
       "      <td>1010</td>\n",
       "    </tr>\n",
       "    <tr>\n",
       "      <th>4</th>\n",
       "      <td>Fri</td>\n",
       "      <td>400</td>\n",
       "      <td>200</td>\n",
       "      <td>300</td>\n",
       "      <td>500</td>\n",
       "      <td>100</td>\n",
       "      <td>1500</td>\n",
       "    </tr>\n",
       "    <tr>\n",
       "      <th>5</th>\n",
       "      <td>Sat</td>\n",
       "      <td>500</td>\n",
       "      <td>180</td>\n",
       "      <td>400</td>\n",
       "      <td>600</td>\n",
       "      <td>90</td>\n",
       "      <td>1770</td>\n",
       "    </tr>\n",
       "    <tr>\n",
       "      <th>6</th>\n",
       "      <td>Sun</td>\n",
       "      <td>450</td>\n",
       "      <td>220</td>\n",
       "      <td>350</td>\n",
       "      <td>300</td>\n",
       "      <td>40</td>\n",
       "      <td>1360</td>\n",
       "    </tr>\n",
       "  </tbody>\n",
       "</table>\n",
       "</div>"
      ],
      "text/plain": [
       "   Day  Food  Travel  Entertainment  Shopping  Others  total\n",
       "0  Mon   250     100            150       200      50    750\n",
       "1  Tue   300      80            100       400      20    900\n",
       "2  Wed   200     120              0       100      70    490\n",
       "3  Thu   350     150            200       250      60   1010\n",
       "4  Fri   400     200            300       500     100   1500\n",
       "5  Sat   500     180            400       600      90   1770\n",
       "6  Sun   450     220            350       300      40   1360"
      ]
     },
     "execution_count": 61,
     "metadata": {},
     "output_type": "execute_result"
    }
   ],
   "source": [
    "index_max = np.argmax(total_expences_per_day)\n",
    "day = df.loc[index_max,\"Day\"]\n",
    "day_with_maximum_spend = np.max(total_expences_per_day)\n",
    "print(\"the day with max index is \" ,day ,\":\" , day_with_maximum_spend)\n",
    "df"
   ]
  },
  {
   "cell_type": "markdown",
   "id": "c364d3f6-f622-4223-a426-86d83b6431e0",
   "metadata": {},
   "source": [
    "## Bar chart of daily expenses (Matplotlib)"
   ]
  },
  {
   "cell_type": "code",
   "execution_count": 69,
   "id": "b06f8914-8501-4de2-a2a4-701ec5e1eccf",
   "metadata": {},
   "outputs": [],
   "source": [
    "import matplotlib.pyplot as plt"
   ]
  },
  {
   "cell_type": "code",
   "execution_count": 76,
   "id": "275f9c34-2376-4b18-a0b5-f1b40fdceae6",
   "metadata": {},
   "outputs": [
    {
     "data": {
      "image/png": "[encoded data removed]",
      "text/plain": [
       "<Figure size 800x500 with 1 Axes>"
      ]
     },
     "metadata": {},
     "output_type": "display_data"
    }
   ],
   "source": [
    "plt.figure(figsize=(8,5))\n",
    "plt.bar(df[\"Day\"],df[\"total\"])\n",
    "plt.title(\"daily Expenses\")\n",
    "plt.xlabel(\"days --------------------->\")\n",
    "plt.ylabel(\"Total Expense\")\n",
    "plt.tight_layout()\n",
    "plt.savefig(\"daily_expenses.png\", dpi=300, bbox_inches=\"tight\")\n"
   ]
  },
  {
   "cell_type": "markdown",
   "id": "b0c62b42-4190-4274-9e91-091dff42573d",
   "metadata": {},
   "source": [
    "## Pie chart of expenses by category (Seaborn/Matplotlib)."
   ]
  },
  {
   "cell_type": "code",
   "execution_count": 81,
   "id": "44c9300e-dd45-490c-9df3-f221a4b2ab9e",
   "metadata": {},
   "outputs": [
    {
     "data": {
      "image/png": "[encoded data removed]",
      "text/plain": [
       "<Figure size 600x600 with 1 Axes>"
      ]
     },
     "metadata": {},
     "output_type": "display_data"
    }
   ],
   "source": [
    "\n",
    "plt.figure(figsize=(6,6))\n",
    "plt.pie(category_wise_total, labels=category_wise_total.index, autopct='%1.1f%%')\n",
    "plt.title(\"Expenses by Category\")\n",
    "plt.savefig(\"category_expences.png\")"
   ]
  },
  {
   "cell_type": "code",
   "execution_count": null,
   "id": "d86959d0-44b8-4fcc-b252-ad6cf24ee355",
   "metadata": {},
   "outputs": [],
   "source": []
  }
 ],
 "metadata": {
  "kernelspec": {
   "display_name": "Python [conda env:atulshahi]",
   "language": "python",
   "name": "conda-env-atulshahi-py"
  },
  "language_info": {
   "codemirror_mode": {
    "name": "ipython",
    "version": 3
   },
   "file_extension": ".py",
   "mimetype": "text/x-python",
   "name": "python",
   "nbconvert_exporter": "python",
   "pygments_lexer": "ipython3",
   "version": "3.13.5"
  }
 },
 "nbformat": 4,
 "nbformat_minor": 5
}

import numpy as np
import time


arr = np.array([1,2,3,4,5,6,7,8,12])
print(arr)



arr2 = np.array([[1,2,3,4,56,6],[2,4,5,6,78,77]])
print(arr2)


np.zeros((3,4))


np.ones((5,5))


np.full((7,4),5)


np.eye(5)


np.arange(1,99,12)


np.linspace(0,100,5)


arr = np.full((7,4),9)

print(arr)



arr.shape


arr.size


arr.ndim


arr.dtype


arr = np.full((7,4),9,)

print(arr)


n = arr.astype('float32')


n.dtype


arr.dtype


arr.shape


arr.flatten() 




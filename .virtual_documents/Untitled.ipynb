import numpy as np

arr = np.array([5, 12, 7, 19, 3, 45, 8, 21, 33, 14, 56, 9, 2, 88, 17, 42, 67, 29, 90, 11, 25, 73])
print(arr)




arr[0]


print(arr[1:5])




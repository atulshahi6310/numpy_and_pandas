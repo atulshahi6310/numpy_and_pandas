import pandas as pd



df = pd.read_csv("movies_dataset.csv")


df


type(df["Actor"])


df[["Actor","Movie"]]


df.head()


df.loc[1]


df.iloc[5]


df.loc[8,"Movie"]


df.iloc[5,3]


df.loc[0:2,["Actor" , "Movie"]]


df.iat[0,0]


pf = pd.read_csv("movies_dataset_1.csv")


pf


pf[pf['IMDb Rating'] ==4]


pf[(pf['IMDb Rating']>6) &(df['Year']>2023)]





c = pf.query("Year >2020 and Actor == 'Hrithik Roshan'")


print(c)


pf.query("Year >2020 and Actor == 'Hrithik Roshan' and `IMDb Rating`>9")


c.loc[5,'Actor'] = "atul"


pf


c.loc[2,'Actor'] = "atul"


pf


c




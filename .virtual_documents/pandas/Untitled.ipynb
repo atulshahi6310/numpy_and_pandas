import pandas as pd



df = pd.read_csv("movies_dataset.csv")


df


type(df["Actor"])


df[["Actor","Movie"]]


df.head()


df.loc[1]


df.iloc[5]


df.loc[8,"Movie"]


df.iloc[5,3]


df.loc[0:2,["Actor" , "Movie"]]


df.iat[0,0]


df.at[5,"Actor"]


df[df['Hit/Flop'] = 'hit']




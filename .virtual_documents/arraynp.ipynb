import numpy as np
import time


arr = np.array([1,2,3,4,5,6,7,8,12])
print(arr)



arr2 = np.array([[1,2,3,4,56,6],[2,4,5,6,78,77]])
print(arr2)


np.zeros((3,4))


np.ones((5,5))




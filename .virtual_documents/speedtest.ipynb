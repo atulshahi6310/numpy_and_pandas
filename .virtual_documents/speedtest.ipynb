#useing python list
import numpy as np
import time
size = 10000

l1 =list(range(size))
l2 =list(range(size))

start = time.time()
add =[x+y for x,y in zip(l1,l2)]
end =time.time()
print(end - start)



# useing numpy arrays


import numpy as np
import time
size = 10000

l1 =np.array(range(size))
l2 =np.array(range(size))

start = time.time()
add = l1 
end =time.time()
print(add[0:10])
print(end - start)


#python zip functons 


l1=[1,2,34,5]
l2 = [2,3,4,56,7]
list(zip(l1,l2))


# numpy array


np.array([1,2,3,4,5,3,7,3,8])


arr = np.array([[1,2,3],[3,4,5]])


type(arr)


arr.shape


import sys
list_data = list(range(100000))
numpy_data = np.array(range(100000))
numpydata =np.array(list_data)
print("python list syze",sys.getsizeof(list_data)*len(list_data),"bytes")
print("numpy array size" ,numpy_data.nbytes,"bytes")


# numpy vectorization - no more loops!!





numpy_squre = arr**2
print(numpy_squre)




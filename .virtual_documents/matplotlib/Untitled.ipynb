import matplotlib.pyplot as plt


plt.style.use("ggplot")


labels = ["Sachin", "Sehwag", "Kohli", "Yuvraj"]
runs = [18000, 8000, 14500, 9500]


plt.title("Career Runs of Indian Batsmen")
plt.pie(runs, labels=labels)
# plt.legend()
# plt.tight_layout()
plt.show()


colors = ['#ff9999','#66b3ff','#99ff99','#ffcc99']
plt.pie(runs, labels=labels, colors=colors)
plt.show()





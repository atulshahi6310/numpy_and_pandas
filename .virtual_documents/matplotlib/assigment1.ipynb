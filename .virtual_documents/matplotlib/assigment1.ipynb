import matplotlib.pyplot as plt
import numpy as np

virat_kohli_data = [
    {'year': 2015, 'runs': 1335}, {'year': 2016, 'runs': 2595},
    {'year': 2017, 'runs': 2818}, {'year': 2018, 'runs': 2735},
    {'year': 2019, 'runs': 2455}, {'year': 2020, 'runs': 842},
    {'year': 2021, 'runs': 965}, {'year': 2022, 'runs': 1348},
    {'year': 2023, 'runs': 2048}, {'year': 2024, 'runs': 1890},
    {'year': 2025, 'runs': 975}
]
virat_kohli_np = np.array([[item['year'], item['runs']] for item in virat_kohli_data])

rohit_sharma_data = [
    {'year': 2015, 'runs': 1499}, {'year': 2016, 'runs': 1301},
    {'year': 2017, 'runs': 1793}, {'year': 2018, 'runs': 1978},
    {'year': 2019, 'runs': 2442}, {'year': 2020, 'runs': 407},
    {'year': 2021, 'runs': 1420}, {'year': 2022, 'runs': 995},
    {'year': 2023, 'runs': 1800}, {'year': 2024, 'runs': 1560},
    {'year': 2025, 'runs': 855}
]
rohit_sharma_np = np.array([[item['year'], item['runs']] for item in rohit_sharma_data])

shubman_gill_data = [
    {'year': 2019, 'runs': 29}, {'year': 2020, 'runs': 228},
    {'year': 2021, 'runs': 558}, {'year': 2022, 'runs': 1007},
    {'year': 2023, 'runs': 2154}, {'year': 2024, 'runs': 1788},
    {'year': 2025, 'runs': 1012}
]
shubman_gill_np = np.array([[item['year'], item['runs']] for item in shubman_gill_data])

plt.figure(figsize=(12, 7))

plt.plot(virat_kohli_np[:, 0], virat_kohli_np[:, 1], marker='o', linestyle='-', label='Virat Kohli')
plt.plot(rohit_sharma_np[:, 0], rohit_sharma_np[:, 1], marker='s', linestyle='-', label='Rohit Sharma')
plt.plot(shubman_gill_np[:, 0], shubman_gill_np[:, 1], marker='^', linestyle='-', label='Shubman Gill')

plt.title('Total International Runs per Year (2015-2025)', fontsize=16)
plt.xlabel('Year', fontsize=12)
plt.ylabel('Total Runs', fontsize=12)
plt.legend()
plt.grid(True, which='both', linestyle='--', linewidth=0.5)

plt.xticks(np.unique(np.concatenate((virat_kohli_np[:, 0], rohit_sharma_np[:, 0], shubman_gill_np[:, 0]))), rotation=45)
plt.tight_layout()

plt.savefig('player_runs_comparison.png')




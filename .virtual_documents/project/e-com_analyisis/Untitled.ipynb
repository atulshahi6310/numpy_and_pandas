


import pandas as pd
import numpy as np
import matplotlib.pyplot as plt
import seaborn as sns


data = {
    "Product": ["Laptop", "Smartphone", "Headphones", "T-Shirt", "Jeans", 
                "Shoes", "Book", "Notebook", "Backpack", "Monitor"],
    "Category": ["Electronics", "Electronics", "Electronics", "Fashion", "Fashion", 
                 "Fashion", "Books", "Stationery", "Fashion", "Electronics"],
    "Units Sold": [50, 120, 200, 300, 150, 100, 250, 400, 80, 70],
    "Price per Unit": [600, 400, 50, 20, 40, 60, 15, 5, 45, 200],
    "Rating": [4.5, 4.3, 4.1, 4.0, 4.2, 4.4, 4.6, 4.1, 4.3, 4.4]
}



df = pd.DataFrame(data)

df["Revenue"] = df["Units Sold"] * df["Price per Unit"]




top_products = df.sort_values(by="Revenue", ascending=False).head(3)





avg_rating_category = df.groupby("Category")["Rating"].mean()
avg_rating_category 





total_revenue = np.sum(df["Revenue"])
total_revenue




mean_rating = np.mean(df["Rating"])
mean_rating 





mean_rating = np.mean(df["Rating"])
mean_rating 






plt.bar(df["Product"], df["Revenue"])
plt.title("Revenue by Product")
plt.xlabel("Product")
plt.ylabel("Revenue")
plt.xticks(rotation=45)
plt.show()



df.groupby("Category")["Revenue"].sum().plot.pie(autopct="%1.1f%%")
plt.title("Revenue Share by Category")
plt.ylabel("")
plt.show()



sns.heatmap(df[["Units Sold", "Price per Unit", "Rating", "Revenue"]].corr(), annot=True, cmap="coolwarm")
plt.title("Correlation Heatmap")
plt.show()




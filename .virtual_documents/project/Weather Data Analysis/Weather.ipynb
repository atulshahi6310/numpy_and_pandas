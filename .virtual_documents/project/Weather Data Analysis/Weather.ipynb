


import numpy as np
import pandas as pd
import  matplotlib.pyplot as plt



import seaborn as sns


df =pd.read_csv("weather_data.csv")


df.head()



avg_min = np.mean(df["Min Temp (°C)"])
avg_max = np.mean(df["Max Temp (°C)"])


avg_min



avg_max


hotest_day = df.loc[df["Max Temp (°C)"].idxmax()]


hotest_day


total_rainfall = np.sum(df["Rainfall (mm)"])


print("total rain fall in last 2 week :" , total_rainfall)


plt.figure(figsize=(10,5))
plt.plot(df["Day"], df["Min Temp (°C)"], marker='o', label="Min Temp")
plt.plot(df["Day"], df["Max Temp (°C)"], marker='o', label="Max Temp")
plt.title("Daily Temperature Trend")
plt.xlabel("Day")
plt.ylabel("Temperature (°C)")
plt.legend()
plt.grid(True)
plt.show()
plt.savefig("temperature_trend.png")


plt.bar(df["Day"], df["Rainfall (mm)"])
plt.title("Rainfall per Day")
plt.xlabel("Day")
plt.ylabel("Rainfall (mm)")
plt.show()
plt.savefig("rainfall_per_day.png")


plt.figure(figsize=(8,5))
sns.scatterplot(x="Max Temp (°C)", y="Rainfall (mm)", data=df, s=50, color ="green")
plt.title("Max Temperature vs Rainfall")
plt.grid()
plt.show()
plt.savefig("max_temp_vs_rainfall")




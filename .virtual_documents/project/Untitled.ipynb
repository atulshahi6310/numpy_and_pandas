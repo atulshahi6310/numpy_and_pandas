


import pandas as pd
import numpy as np
import matplotlib.pyplot as plt



pd.read_csv("student_marks.csv")




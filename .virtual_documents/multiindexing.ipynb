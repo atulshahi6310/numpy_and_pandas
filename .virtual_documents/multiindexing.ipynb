import numpy as np


arr = np.array([[1,2,3],[4,5,6],[7,8,9]])


np.sum(arr,axis=1)


a = np.array([1,2,3,4,5,6,6,6])
c = a[1:4]
print(c)


a


c


a[2:5]


a


c = a[1:4].copy()


print(c)


c[2] = 5


print(c)


d = [1,2,3]


print(a[d])


a[a>2]




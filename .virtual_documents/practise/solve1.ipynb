


n = int(input())
student=[]
for _ in range(n):
    name = input()
    score = float(input())
    student.append([name, score])
score = sorted(s[1] for s in student)
second_lowest = score[1]
second_lowest_student = sorted(s[0] for s in student if s[1] == second_lowest)
second_lowest_student.sort()
for name in second_lowest_student:
        print('output is ', name)





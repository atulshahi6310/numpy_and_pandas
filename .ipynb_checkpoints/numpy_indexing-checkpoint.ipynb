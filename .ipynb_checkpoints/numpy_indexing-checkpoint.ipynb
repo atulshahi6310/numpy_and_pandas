{
 "cells": [
  {
   "cell_type": "code",
   "execution_count": 1,
   "id": "0ae9674f-67e1-468e-872e-2b49ad704af0",
   "metadata": {},
   "outputs": [
    {
     "name": "stdout",
     "output_type": "stream",
     "text": [
      "[ 5 12  7 19  3 45  8 21 33 14 56  9  2 88 17 42 67 29 90 11 25 73]\n"
     ]
    }
   ],
   "source": [
    "import numpy as np\n",
    "\n",
    "arr = np.array([5, 12, 7, 19, 3, 45, 8, 21, 33, 14, 56, 9, 2, 88, 17, 42, 67, 29, 90, 11, 25, 73])\n",
    "print(arr)\n",
    "\n"
   ]
  },
  {
   "cell_type": "code",
   "execution_count": 12,
   "id": "2292dd4c-edb5-40f5-8659-59cf64a524fe",
   "metadata": {},
   "outputs": [
    {
     "data": {
      "text/plain": [
       "np.int64(5)"
      ]
     },
     "execution_count": 12,
     "metadata": {},
     "output_type": "execute_result"
    }
   ],
   "source": [
    "arr[0]"
   ]
  },
  {
   "cell_type": "code",
   "execution_count": 13,
   "id": "6de20a41-f557-4932-a52a-82a1cf422327",
   "metadata": {},
   "outputs": [
    {
     "name": "stdout",
     "output_type": "stream",
     "text": [
      "[12  7 19  3]\n"
     ]
    }
   ],
   "source": [
    "print(arr[1:5])"
   ]
  },
  {
   "cell_type": "code",
   "execution_count": null,
   "id": "8b135523-a831-4dd3-a3f3-d1e0000bb620",
   "metadata": {},
   "outputs": [],
   "source": [
    "print(arr[1:5])"
   ]
  }
 ],
 "metadata": {
  "kernelspec": {
   "display_name": "Python [conda env:atulshahi]",
   "language": "python",
   "name": "conda-env-atulshahi-py"
  },
  "language_info": {
   "codemirror_mode": {
    "name": "ipython",
    "version": 3
   },
   "file_extension": ".py",
   "mimetype": "text/x-python",
   "name": "python",
   "nbconvert_exporter": "python",
   "pygments_lexer": "ipython3",
   "version": "3.13.5"
  }
 },
 "nbformat": 4,
 "nbformat_minor": 5
}

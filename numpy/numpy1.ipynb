{
 "cells": [
  {
   "cell_type": "code",
   "execution_count": 4,
   "id": "6a7d0b95-3226-4a62-ab65-df7296b60779",
   "metadata": {},
   "outputs": [],
   "source": [
    "# doing basic of numpy"
   ]
  },
  {
   "cell_type": "code",
   "execution_count": 4,
   "id": "3c41b1cf-3e55-46e8-b8cd-efa76095f93d",
   "metadata": {},
   "outputs": [
    {
     "name": "stdout",
     "output_type": "stream",
     "text": [
      "[  1   4   9  16  25  36  49  64  81 484]\n"
     ]
    }
   ],
   "source": [
    "import numpy as np\n",
    "import time\n",
    "\n",
    "arr = np.array([1,2,3,4,5,6,7,8,9,22])\n",
    "numpy_squre = arr**2\n",
    "print(numpy_squre)"
   ]
  },
  {
   "cell_type": "code",
   "execution_count": 6,
   "id": "e55d00a6-459e-4b09-a7e8-352d2251f3bf",
   "metadata": {},
   "outputs": [],
   "source": [
    "# useing python to this is not good to useing with list "
   ]
  },
  {
   "cell_type": "code",
   "execution_count": null,
   "id": "02a735b3-0336-4aab-a07b-568c43eb1c16",
   "metadata": {},
   "outputs": [],
   "source": []
  }
 ],
 "metadata": {
  "kernelspec": {
   "display_name": "Python [conda env:atulshahi]",
   "language": "python",
   "name": "conda-env-atulshahi-py"
  },
  "language_info": {
   "codemirror_mode": {
    "name": "ipython",
    "version": 3
   },
   "file_extension": ".py",
   "mimetype": "text/x-python",
   "name": "python",
   "nbconvert_exporter": "python",
   "pygments_lexer": "ipython3",
   "version": "3.13.5"
  }
 },
 "nbformat": 4,
 "nbformat_minor": 5
}

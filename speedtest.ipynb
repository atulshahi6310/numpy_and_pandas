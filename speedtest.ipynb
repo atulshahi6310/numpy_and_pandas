{
 "cells": [
  {
   "cell_type": "code",
   "execution_count": 6,
   "id": "e8cdd692-6bba-4e02-8d73-77e8aebe4556",
   "metadata": {},
   "outputs": [
    {
     "name": "stdout",
     "output_type": "stream",
     "text": [
      "0.0007779598236083984\n"
     ]
    }
   ],
   "source": [
    "#useing python list\n",
    "import numpy as np\n",
    "import time\n",
    "size = 10000\n",
    "\n",
    "l1 =list(range(size))\n",
    "l2 =list(range(size))\n",
    "\n",
    "start = time.time()\n",
    "add =[x+y for x,y in zip(l1,l2)]\n",
    "end =time.time()\n",
    "print(end - start)\n"
   ]
  },
  {
   "cell_type": "code",
   "execution_count": 11,
   "id": "0b263204-380b-4647-a523-9a15ddba33fb",
   "metadata": {},
   "outputs": [],
   "source": [
    "# useing numpy arrays"
   ]
  },
  {
   "cell_type": "code",
   "execution_count": 5,
   "id": "7914da1c-c909-4d8b-8bb8-baca49d239c6",
   "metadata": {},
   "outputs": [
    {
     "name": "stdout",
     "output_type": "stream",
     "text": [
      "[0 1 2 3 4 5 6 7 8 9]\n",
      "0.0008296966552734375\n"
     ]
    }
   ],
   "source": [
    "import numpy as np\n",
    "import time\n",
    "size = 10000\n",
    "\n",
    "l1 =np.array(range(size))\n",
    "l2 =np.array(range(size))\n",
    "\n",
    "start = time.time()\n",
    "add = l1 \n",
    "end =time.time()\n",
    "print(add[0:10])\n",
    "print(end - start)"
   ]
  },
  {
   "cell_type": "code",
   "execution_count": 7,
   "id": "4a418e4a-65fe-4162-9317-09656d6684ad",
   "metadata": {},
   "outputs": [],
   "source": [
    "#python zip functons "
   ]
  },
  {
   "cell_type": "code",
   "execution_count": 8,
   "id": "8ebf5292-2b24-4bbb-a395-13a494d3b761",
   "metadata": {},
   "outputs": [
    {
     "data": {
      "text/plain": [
       "[(1, 2), (2, 3), (34, 4), (5, 56)]"
      ]
     },
     "execution_count": 8,
     "metadata": {},
     "output_type": "execute_result"
    }
   ],
   "source": [
    "l1=[1,2,34,5]\n",
    "l2 = [2,3,4,56,7]\n",
    "list(zip(l1,l2))"
   ]
  },
  {
   "cell_type": "code",
   "execution_count": 9,
   "id": "22044053-2d30-4cd6-8d98-5e8a627ddafe",
   "metadata": {},
   "outputs": [],
   "source": [
    "# numpy array"
   ]
  },
  {
   "cell_type": "code",
   "execution_count": 13,
   "id": "0a223007-181a-4472-b537-37406efad76c",
   "metadata": {},
   "outputs": [
    {
     "data": {
      "text/plain": [
       "array([1, 2, 3, 4, 5, 3, 7, 3, 8])"
      ]
     },
     "execution_count": 13,
     "metadata": {},
     "output_type": "execute_result"
    }
   ],
   "source": [
    "np.array([1,2,3,4,5,3,7,3,8])"
   ]
  },
  {
   "cell_type": "code",
   "execution_count": 22,
   "id": "e4f123cf-d0f4-4373-b4d0-03355ef255ae",
   "metadata": {},
   "outputs": [],
   "source": [
    "arr = np.array([[1,2,3],[3,4,5]])"
   ]
  },
  {
   "cell_type": "code",
   "execution_count": 23,
   "id": "d4d6a431-9bdb-4d4e-8e03-f4add0dcb9e7",
   "metadata": {},
   "outputs": [
    {
     "data": {
      "text/plain": [
       "numpy.ndarray"
      ]
     },
     "execution_count": 23,
     "metadata": {},
     "output_type": "execute_result"
    }
   ],
   "source": [
    "type(arr)"
   ]
  },
  {
   "cell_type": "code",
   "execution_count": 24,
   "id": "2fb828e8-89b9-401d-97f9-5a7e7afff89e",
   "metadata": {},
   "outputs": [
    {
     "data": {
      "text/plain": [
       "(2, 3)"
      ]
     },
     "execution_count": 24,
     "metadata": {},
     "output_type": "execute_result"
    }
   ],
   "source": [
    "arr.shape"
   ]
  },
  {
   "cell_type": "code",
   "execution_count": 26,
   "id": "b5ebe9ce-8c85-400c-993d-867d6faad133",
   "metadata": {},
   "outputs": [
    {
     "name": "stdout",
     "output_type": "stream",
     "text": [
      "python list syze 80005600000 bytes\n",
      "numpy array size 800000 bytes\n"
     ]
    }
   ],
   "source": [
    "import sys\n",
    "list_data = list(range(100000))\n",
    "numpy_data = np.array(range(100000))\n",
    "numpydata =np.array(list_data)\n",
    "print(\"python list syze\",sys.getsizeof(list_data)*len(list_data),\"bytes\")\n",
    "print(\"numpy array size\" ,numpy_data.nbytes,\"bytes\")"
   ]
  },
  {
   "cell_type": "code",
   "execution_count": 29,
   "id": "4ee0d9be-51d9-40e4-acb6-045f255d164f",
   "metadata": {},
   "outputs": [],
   "source": [
    "# numpy vectorization - no more loops!!"
   ]
  },
  {
   "cell_type": "code",
   "execution_count": 33,
   "id": "1fbbd848-02eb-4b62-98db-fa24535aac3f",
   "metadata": {},
   "outputs": [],
   "source": []
  },
  {
   "cell_type": "code",
   "execution_count": 35,
   "id": "9282b74a-bd1b-4d51-915c-c16f722aadc3",
   "metadata": {},
   "outputs": [
    {
     "name": "stdout",
     "output_type": "stream",
     "text": [
      "[[ 1  4  9]\n",
      " [ 9 16 25]]\n"
     ]
    }
   ],
   "source": [
    "numpy_squre = arr**2\n",
    "print(numpy_squre)"
   ]
  },
  {
   "cell_type": "code",
   "execution_count": null,
   "id": "e6576037-277d-4268-bc8b-611111cd92a9",
   "metadata": {},
   "outputs": [],
   "source": []
  }
 ],
 "metadata": {
  "kernelspec": {
   "display_name": "Python [conda env:atulshahi]",
   "language": "python",
   "name": "conda-env-atulshahi-py"
  },
  "language_info": {
   "codemirror_mode": {
    "name": "ipython",
    "version": 3
   },
   "file_extension": ".py",
   "mimetype": "text/x-python",
   "name": "python",
   "nbconvert_exporter": "python",
   "pygments_lexer": "ipython3",
   "version": "3.13.5"
  }
 },
 "nbformat": 4,
 "nbformat_minor": 5
}
